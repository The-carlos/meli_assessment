{
 "cells": [
  {
   "cell_type": "markdown",
   "metadata": {},
   "source": [
    "# Assessment"
   ]
  },
  {
   "cell_type": "markdown",
   "metadata": {},
   "source": [
    "Objetivo de la prueba\n",
    "\n",
    "\n",
    "En este caso, se quiere pronosticar la demanda de un producto para una semana\n",
    "determinada, en una tienda especial. El conjunto de datos que recibe consta de 8 semanas\n",
    "de transacciones de ventas en México.\n",
    "Cada semana, hay camiones de reparto que entregan productos a los vendedores. Cada\n",
    "transacción consiste en ventas y devoluciones. Las devoluciones son los productos que no\n",
    "se han vendido y caducado.\n",
    "La demanda de un producto en una semana determinada se define como las ventas de esta\n",
    "semana restado por el retorno de la próxima semana.\n",
    "\n",
    "Requisitos\n",
    "\n",
    "1. Intentar desarrollar la prueba en Python / R / SQL, o el programa que se\n",
    "le facilite.\n",
    "2. Comparte el documento con las respuestas, incluye una breve explicación\n",
    "de tus resultados.\n",
    "3. Comparta su código para revisarlo en detalle.\n",
    "\n",
    "Entregables\n",
    "1. Justifica la elección del algoritmo que utilizaste.\n",
    "2. Graficar una serie de tiempo para una determinada combinación\n",
    "producto-cliente-agencia.\n",
    "3. Agregue varias métricas de su elección para mostrar la solidez del algoritmo.\n",
    "4. Definir una muestra de clientes que represente a una agencia específica\n",
    "(Especifique cuál agencia y cuáles fueron sus criterios de selección y metodología\n",
    "aplicada).\n",
    "5. Prediga la semana 9 para los 3 productos más vendidos en la muestra de su cliente.\n",
    "6. Haz un dibujo de diagrama de flujo que mapee todos los pasos de tu algoritmo\n",
    "usado.\n",
    "\n",
    "En caso de no terminar en la fecha prevista, enviar lo realizado.\n",
    "\n",
    "\n",
    "Cosas a tener en cuenta:\n",
    "1. Puede haber productos en el conjunto de prueba que no existen en el conjunto\n",
    "de entrenamiento. Este es el comportamiento de los datos de inventario, ya que\n",
    "hay nuevos productos que se venden todo el tiempo. Tu modelo debería ser\n",
    "capaz de acomodar esto.\n",
    "2. Hay Cliente_ID duplicados en cliente_tabla, lo que significa un Cliente_ID. Puede\n",
    "tener múltiples NombreCliente que son muy similares. Esto se debe al\n",
    "NombreCliente ser ruidoso y no estandarizado en los datos sin procesar, por lo\n",
    "que depende de usted decidir cómo limpiar y utilizar esta información.\n",
    "3. La demanda ajustada (Demanda_uni_equil) siempre es >= 0 ya que la demanda\n",
    "debería ser un 0 o un valor positivo. La razón que Venta_uni_hoy -\n",
    "Dev_uni_proxima a veces tiene valores negativos es que el los registros de\n",
    "devoluciones a veces se prolongan durante algunas semanas.\n",
    "\n",
    "![Moelo relacional](Untitled.png)\n",
    "\n"
   ]
  },
  {
   "cell_type": "markdown",
   "metadata": {},
   "source": [
    "# Key concepts"
   ]
  },
  {
   "cell_type": "markdown",
   "metadata": {},
   "source": [
    "Descripciones de archivos\n",
    "1. cliente_tabla.csv: nombres de clientes (se pueden unir con train/test en\n",
    "Cliente_ID)\n",
    "2. producto_tabla.csv: nombres de productos (se pueden unir con train/test en\n",
    "Producto_ID)\n",
    "3. estados_state.csv: ciudad y estado (se puede unir con train/test en\n",
    "Agencia_ID) \n",
    "\n",
    "Campos de información\n",
    "1. Semana — Número de semana (de jueves a miércoles)\n",
    "2. Agencia_ID: ID del depósito de ventas\n",
    "3. Canal_ID: ID del canal de ventas\n",
    "4. Ruta_SAK: ID de ruta (Varias rutas = Depósito de ventas)\n",
    "5. Cliente_ID: identificación del cliente\n",
    "6. NombreCliente — Nombre del cliente\n",
    "7. Producto_ID — Identificación del producto\n",
    "8. NombreProducto — Nombre del producto\n",
    "9. Venta_uni_hoy: unidad de ventas de esta semana (entero)\n",
    "10. Venta_hoy — Ventas esta semana (unidad: pesos)\n",
    "11. Dev_uni_proxima: devuelve la unidad la próxima semana\n",
    "(entero)\n",
    "12. Dev_proxima — Vuelve la próxima semana (unidad: pesos)\n",
    "13. **Demanda_uni_equil — Demanda ajustada (entero) (Este es el objetivo que predecir)**"
   ]
  },
  {
   "cell_type": "markdown",
   "metadata": {},
   "source": [
    "# Libreries definition"
   ]
  },
  {
   "cell_type": "code",
   "execution_count": 114,
   "metadata": {},
   "outputs": [],
   "source": [
    "import pandas as pd\n",
    "import numpy as np\n",
    "import matplotlib.pyplot as plt\n",
    "import seaborn as sns\n",
    "from matplotlib.ticker import FuncFormatter\n",
    "from sklearn.model_selection import train_test_split\n",
    "from sklearn.ensemble import RandomForestRegressor\n",
    "from sklearn.metrics import mean_squared_error\n",
    "from sklearn.preprocessing import LabelEncoder\n"
   ]
  },
  {
   "cell_type": "markdown",
   "metadata": {},
   "source": [
    "# Data import & data cleaning"
   ]
  },
  {
   "cell_type": "code",
   "execution_count": 2,
   "metadata": {},
   "outputs": [
    {
     "data": {
      "text/plain": [
       "(935362, 2)"
      ]
     },
     "execution_count": 2,
     "metadata": {},
     "output_type": "execute_result"
    }
   ],
   "source": [
    "data_cliente = pd.read_csv(\"cliente_tabla.csv\")\n",
    "data_cliente.shape"
   ]
  },
  {
   "cell_type": "markdown",
   "metadata": {},
   "source": [
    "At fist sight this is clearly a catalog table for all customers:"
   ]
  },
  {
   "cell_type": "code",
   "execution_count": 3,
   "metadata": {},
   "outputs": [
    {
     "data": {
      "text/html": [
       "<div>\n",
       "<style scoped>\n",
       "    .dataframe tbody tr th:only-of-type {\n",
       "        vertical-align: middle;\n",
       "    }\n",
       "\n",
       "    .dataframe tbody tr th {\n",
       "        vertical-align: top;\n",
       "    }\n",
       "\n",
       "    .dataframe thead th {\n",
       "        text-align: right;\n",
       "    }\n",
       "</style>\n",
       "<table border=\"1\" class=\"dataframe\">\n",
       "  <thead>\n",
       "    <tr style=\"text-align: right;\">\n",
       "      <th></th>\n",
       "      <th>Cliente_ID</th>\n",
       "      <th>NombreCliente</th>\n",
       "    </tr>\n",
       "  </thead>\n",
       "  <tbody>\n",
       "    <tr>\n",
       "      <th>0</th>\n",
       "      <td>0</td>\n",
       "      <td>SIN NOMBRE</td>\n",
       "    </tr>\n",
       "    <tr>\n",
       "      <th>1</th>\n",
       "      <td>1</td>\n",
       "      <td>OXXO XINANTECATL</td>\n",
       "    </tr>\n",
       "    <tr>\n",
       "      <th>2</th>\n",
       "      <td>2</td>\n",
       "      <td>SIN NOMBRE</td>\n",
       "    </tr>\n",
       "    <tr>\n",
       "      <th>3</th>\n",
       "      <td>3</td>\n",
       "      <td>EL MORENO</td>\n",
       "    </tr>\n",
       "    <tr>\n",
       "      <th>4</th>\n",
       "      <td>4</td>\n",
       "      <td>SDN SER  DE ALIM  CUERPO SA CIA  DE INT</td>\n",
       "    </tr>\n",
       "  </tbody>\n",
       "</table>\n",
       "</div>"
      ],
      "text/plain": [
       "   Cliente_ID                            NombreCliente\n",
       "0           0                               SIN NOMBRE\n",
       "1           1                         OXXO XINANTECATL\n",
       "2           2                               SIN NOMBRE\n",
       "3           3                                EL MORENO\n",
       "4           4  SDN SER  DE ALIM  CUERPO SA CIA  DE INT"
      ]
     },
     "execution_count": 3,
     "metadata": {},
     "output_type": "execute_result"
    }
   ],
   "source": [
    "data_cliente.head()"
   ]
  },
  {
   "cell_type": "markdown",
   "metadata": {},
   "source": [
    "Also, there's no missing data."
   ]
  },
  {
   "cell_type": "code",
   "execution_count": 4,
   "metadata": {},
   "outputs": [
    {
     "name": "stdout",
     "output_type": "stream",
     "text": [
      "<class 'pandas.core.frame.DataFrame'>\n",
      "RangeIndex: 935362 entries, 0 to 935361\n",
      "Data columns (total 2 columns):\n",
      " #   Column         Non-Null Count   Dtype \n",
      "---  ------         --------------   ----- \n",
      " 0   Cliente_ID     935362 non-null  int64 \n",
      " 1   NombreCliente  935362 non-null  object\n",
      "dtypes: int64(1), object(1)\n",
      "memory usage: 14.3+ MB\n"
     ]
    }
   ],
   "source": [
    "data_cliente.info()"
   ]
  },
  {
   "cell_type": "code",
   "execution_count": 5,
   "metadata": {},
   "outputs": [
    {
     "name": "stdout",
     "output_type": "stream",
     "text": [
      "Duplicated rows: 0\n"
     ]
    }
   ],
   "source": [
    "print(f\"Duplicated rows: {data_cliente.duplicated().sum()}\")"
   ]
  },
  {
   "cell_type": "code",
   "execution_count": 6,
   "metadata": {},
   "outputs": [
    {
     "data": {
      "text/plain": [
       "(2592, 2)"
      ]
     },
     "execution_count": 6,
     "metadata": {},
     "output_type": "execute_result"
    }
   ],
   "source": [
    "data_producto = pd.read_csv(\"Producto_tabla.csv\")\n",
    "data_producto.shape"
   ]
  },
  {
   "cell_type": "markdown",
   "metadata": {},
   "source": [
    "Same for the product data which is a catalog of all existing products. Fortuately there's no missing data."
   ]
  },
  {
   "cell_type": "code",
   "execution_count": 7,
   "metadata": {},
   "outputs": [
    {
     "data": {
      "text/html": [
       "<div>\n",
       "<style scoped>\n",
       "    .dataframe tbody tr th:only-of-type {\n",
       "        vertical-align: middle;\n",
       "    }\n",
       "\n",
       "    .dataframe tbody tr th {\n",
       "        vertical-align: top;\n",
       "    }\n",
       "\n",
       "    .dataframe thead th {\n",
       "        text-align: right;\n",
       "    }\n",
       "</style>\n",
       "<table border=\"1\" class=\"dataframe\">\n",
       "  <thead>\n",
       "    <tr style=\"text-align: right;\">\n",
       "      <th></th>\n",
       "      <th>Producto_ID</th>\n",
       "      <th>NombreProducto</th>\n",
       "    </tr>\n",
       "  </thead>\n",
       "  <tbody>\n",
       "    <tr>\n",
       "      <th>0</th>\n",
       "      <td>0</td>\n",
       "      <td>NO IDENTIFICADO 0</td>\n",
       "    </tr>\n",
       "    <tr>\n",
       "      <th>1</th>\n",
       "      <td>9</td>\n",
       "      <td>Capuccino Moka 750g NES 9</td>\n",
       "    </tr>\n",
       "    <tr>\n",
       "      <th>2</th>\n",
       "      <td>41</td>\n",
       "      <td>Bimbollos Ext sAjonjoli 6p 480g BIM 41</td>\n",
       "    </tr>\n",
       "    <tr>\n",
       "      <th>3</th>\n",
       "      <td>53</td>\n",
       "      <td>Burritos Sincro 170g CU LON 53</td>\n",
       "    </tr>\n",
       "    <tr>\n",
       "      <th>4</th>\n",
       "      <td>72</td>\n",
       "      <td>Div Tira Mini Doradita 4p 45g TR 72</td>\n",
       "    </tr>\n",
       "  </tbody>\n",
       "</table>\n",
       "</div>"
      ],
      "text/plain": [
       "   Producto_ID                          NombreProducto\n",
       "0            0                       NO IDENTIFICADO 0\n",
       "1            9               Capuccino Moka 750g NES 9\n",
       "2           41  Bimbollos Ext sAjonjoli 6p 480g BIM 41\n",
       "3           53          Burritos Sincro 170g CU LON 53\n",
       "4           72     Div Tira Mini Doradita 4p 45g TR 72"
      ]
     },
     "execution_count": 7,
     "metadata": {},
     "output_type": "execute_result"
    }
   ],
   "source": [
    "data_producto.head()"
   ]
  },
  {
   "cell_type": "code",
   "execution_count": 8,
   "metadata": {},
   "outputs": [
    {
     "name": "stdout",
     "output_type": "stream",
     "text": [
      "<class 'pandas.core.frame.DataFrame'>\n",
      "RangeIndex: 2592 entries, 0 to 2591\n",
      "Data columns (total 2 columns):\n",
      " #   Column          Non-Null Count  Dtype \n",
      "---  ------          --------------  ----- \n",
      " 0   Producto_ID     2592 non-null   int64 \n",
      " 1   NombreProducto  2592 non-null   object\n",
      "dtypes: int64(1), object(1)\n",
      "memory usage: 40.6+ KB\n"
     ]
    }
   ],
   "source": [
    "data_producto.info()"
   ]
  },
  {
   "cell_type": "code",
   "execution_count": 9,
   "metadata": {},
   "outputs": [
    {
     "name": "stdout",
     "output_type": "stream",
     "text": [
      "Duplicated rows: 0\n"
     ]
    }
   ],
   "source": [
    "print(f\"Duplicated rows: {data_producto.duplicated().sum()}\")"
   ]
  },
  {
   "cell_type": "code",
   "execution_count": 10,
   "metadata": {},
   "outputs": [
    {
     "data": {
      "text/plain": [
       "(41, 3)"
      ]
     },
     "execution_count": 10,
     "metadata": {},
     "output_type": "execute_result"
    }
   ],
   "source": [
    "data_estados = pd.read_csv(\"estados.csv\", encoding='ISO-8859-1')\n",
    "data_estados.shape"
   ]
  },
  {
   "cell_type": "markdown",
   "metadata": {},
   "source": [
    "The \"estados.csv\" file is another catalog. This time is a catalog of towns and states. There is an unnamed column that I'm not sure if it's an Id or not. I'll keep it for now. "
   ]
  },
  {
   "cell_type": "code",
   "execution_count": 11,
   "metadata": {},
   "outputs": [
    {
     "data": {
      "text/html": [
       "<div>\n",
       "<style scoped>\n",
       "    .dataframe tbody tr th:only-of-type {\n",
       "        vertical-align: middle;\n",
       "    }\n",
       "\n",
       "    .dataframe tbody tr th {\n",
       "        vertical-align: top;\n",
       "    }\n",
       "\n",
       "    .dataframe thead th {\n",
       "        text-align: right;\n",
       "    }\n",
       "</style>\n",
       "<table border=\"1\" class=\"dataframe\">\n",
       "  <thead>\n",
       "    <tr style=\"text-align: right;\">\n",
       "      <th></th>\n",
       "      <th>Unnamed: 0</th>\n",
       "      <th>Town</th>\n",
       "      <th>State</th>\n",
       "    </tr>\n",
       "  </thead>\n",
       "  <tbody>\n",
       "    <tr>\n",
       "      <th>0</th>\n",
       "      <td>1110</td>\n",
       "      <td>2008 AG. LAGO FILT</td>\n",
       "      <td>MÉXICO, D.F.</td>\n",
       "    </tr>\n",
       "    <tr>\n",
       "      <th>1</th>\n",
       "      <td>1111</td>\n",
       "      <td>2002 AG. AZCAPOTZALCO</td>\n",
       "      <td>MÉXICO, D.F.</td>\n",
       "    </tr>\n",
       "    <tr>\n",
       "      <th>2</th>\n",
       "      <td>1112</td>\n",
       "      <td>2004 AG. CUAUTITLAN</td>\n",
       "      <td>ESTADO DE MÉXICO</td>\n",
       "    </tr>\n",
       "    <tr>\n",
       "      <th>3</th>\n",
       "      <td>1113</td>\n",
       "      <td>2008 AG. LAGO FILT</td>\n",
       "      <td>MÉXICO, D.F.</td>\n",
       "    </tr>\n",
       "    <tr>\n",
       "      <th>4</th>\n",
       "      <td>1114</td>\n",
       "      <td>2029 AG.IZTAPALAPA 2</td>\n",
       "      <td>MÉXICO, D.F.</td>\n",
       "    </tr>\n",
       "  </tbody>\n",
       "</table>\n",
       "</div>"
      ],
      "text/plain": [
       "   Unnamed: 0                   Town             State\n",
       "0        1110     2008 AG. LAGO FILT      MÉXICO, D.F.\n",
       "1        1111  2002 AG. AZCAPOTZALCO      MÉXICO, D.F.\n",
       "2        1112    2004 AG. CUAUTITLAN  ESTADO DE MÉXICO\n",
       "3        1113     2008 AG. LAGO FILT      MÉXICO, D.F.\n",
       "4        1114   2029 AG.IZTAPALAPA 2      MÉXICO, D.F."
      ]
     },
     "execution_count": 11,
     "metadata": {},
     "output_type": "execute_result"
    }
   ],
   "source": [
    "data_estados.head()"
   ]
  },
  {
   "cell_type": "markdown",
   "metadata": {},
   "source": [
    "By mistake the first column is not correctly named. Let's fix it. Also, let's set the Agencia_ID as int64."
   ]
  },
  {
   "cell_type": "code",
   "execution_count": 12,
   "metadata": {},
   "outputs": [
    {
     "data": {
      "text/html": [
       "<div>\n",
       "<style scoped>\n",
       "    .dataframe tbody tr th:only-of-type {\n",
       "        vertical-align: middle;\n",
       "    }\n",
       "\n",
       "    .dataframe tbody tr th {\n",
       "        vertical-align: top;\n",
       "    }\n",
       "\n",
       "    .dataframe thead th {\n",
       "        text-align: right;\n",
       "    }\n",
       "</style>\n",
       "<table border=\"1\" class=\"dataframe\">\n",
       "  <thead>\n",
       "    <tr style=\"text-align: right;\">\n",
       "      <th></th>\n",
       "      <th>Agencia_ID</th>\n",
       "      <th>Town</th>\n",
       "      <th>State</th>\n",
       "    </tr>\n",
       "  </thead>\n",
       "  <tbody>\n",
       "    <tr>\n",
       "      <th>0</th>\n",
       "      <td>1110</td>\n",
       "      <td>2008 AG. LAGO FILT</td>\n",
       "      <td>MÉXICO, D.F.</td>\n",
       "    </tr>\n",
       "    <tr>\n",
       "      <th>1</th>\n",
       "      <td>1111</td>\n",
       "      <td>2002 AG. AZCAPOTZALCO</td>\n",
       "      <td>MÉXICO, D.F.</td>\n",
       "    </tr>\n",
       "    <tr>\n",
       "      <th>2</th>\n",
       "      <td>1112</td>\n",
       "      <td>2004 AG. CUAUTITLAN</td>\n",
       "      <td>ESTADO DE MÉXICO</td>\n",
       "    </tr>\n",
       "    <tr>\n",
       "      <th>3</th>\n",
       "      <td>1113</td>\n",
       "      <td>2008 AG. LAGO FILT</td>\n",
       "      <td>MÉXICO, D.F.</td>\n",
       "    </tr>\n",
       "    <tr>\n",
       "      <th>4</th>\n",
       "      <td>1114</td>\n",
       "      <td>2029 AG.IZTAPALAPA 2</td>\n",
       "      <td>MÉXICO, D.F.</td>\n",
       "    </tr>\n",
       "  </tbody>\n",
       "</table>\n",
       "</div>"
      ],
      "text/plain": [
       "   Agencia_ID                   Town             State\n",
       "0        1110     2008 AG. LAGO FILT      MÉXICO, D.F.\n",
       "1        1111  2002 AG. AZCAPOTZALCO      MÉXICO, D.F.\n",
       "2        1112    2004 AG. CUAUTITLAN  ESTADO DE MÉXICO\n",
       "3        1113     2008 AG. LAGO FILT      MÉXICO, D.F.\n",
       "4        1114   2029 AG.IZTAPALAPA 2      MÉXICO, D.F."
      ]
     },
     "execution_count": 12,
     "metadata": {},
     "output_type": "execute_result"
    }
   ],
   "source": [
    "correct_names = {\"Unnamed: 0\": \"Agencia_ID\", \"Town\": \"Town\", \"State\" : \"State\"}\n",
    "data_estados = data_estados.rename(columns = correct_names)\n",
    "data_estados[\"Agencia_ID\"] = data_estados[\"Agencia_ID\"].astype('int64') \n",
    "data_estados.head()"
   ]
  },
  {
   "cell_type": "code",
   "execution_count": 13,
   "metadata": {},
   "outputs": [
    {
     "name": "stdout",
     "output_type": "stream",
     "text": [
      "<class 'pandas.core.frame.DataFrame'>\n",
      "RangeIndex: 41 entries, 0 to 40\n",
      "Data columns (total 3 columns):\n",
      " #   Column      Non-Null Count  Dtype \n",
      "---  ------      --------------  ----- \n",
      " 0   Agencia_ID  41 non-null     int64 \n",
      " 1   Town        41 non-null     object\n",
      " 2   State       41 non-null     object\n",
      "dtypes: int64(1), object(2)\n",
      "memory usage: 1.1+ KB\n"
     ]
    }
   ],
   "source": [
    "data_estados.info()"
   ]
  },
  {
   "cell_type": "code",
   "execution_count": 14,
   "metadata": {},
   "outputs": [
    {
     "name": "stdout",
     "output_type": "stream",
     "text": [
      "Duplicated rows: 0\n"
     ]
    }
   ],
   "source": [
    "print(f\"Duplicated rows: {data_estados.duplicated().sum()}\")"
   ]
  },
  {
   "cell_type": "code",
   "execution_count": 15,
   "metadata": {},
   "outputs": [
    {
     "data": {
      "text/plain": [
       "(7974418, 11)"
      ]
     },
     "execution_count": 15,
     "metadata": {},
     "output_type": "execute_result"
    }
   ],
   "source": [
    "data_candidate = pd.read_csv(\"dfcandidate.csv\")\n",
    "data_candidate.shape"
   ]
  },
  {
   "cell_type": "code",
   "execution_count": 16,
   "metadata": {},
   "outputs": [
    {
     "data": {
      "text/html": [
       "<div>\n",
       "<style scoped>\n",
       "    .dataframe tbody tr th:only-of-type {\n",
       "        vertical-align: middle;\n",
       "    }\n",
       "\n",
       "    .dataframe tbody tr th {\n",
       "        vertical-align: top;\n",
       "    }\n",
       "\n",
       "    .dataframe thead th {\n",
       "        text-align: right;\n",
       "    }\n",
       "</style>\n",
       "<table border=\"1\" class=\"dataframe\">\n",
       "  <thead>\n",
       "    <tr style=\"text-align: right;\">\n",
       "      <th></th>\n",
       "      <th>Semana</th>\n",
       "      <th>Agencia_ID</th>\n",
       "      <th>Canal_ID</th>\n",
       "      <th>Ruta_SAK</th>\n",
       "      <th>Cliente_ID</th>\n",
       "      <th>Producto_ID</th>\n",
       "      <th>Venta_uni_hoy</th>\n",
       "      <th>Venta_hoy</th>\n",
       "      <th>Dev_uni_proxima</th>\n",
       "      <th>Dev_proxima</th>\n",
       "      <th>Demanda_uni_equil</th>\n",
       "    </tr>\n",
       "  </thead>\n",
       "  <tbody>\n",
       "    <tr>\n",
       "      <th>0</th>\n",
       "      <td>3</td>\n",
       "      <td>1110</td>\n",
       "      <td>7</td>\n",
       "      <td>3301</td>\n",
       "      <td>15766</td>\n",
       "      <td>1212</td>\n",
       "      <td>3</td>\n",
       "      <td>25.14</td>\n",
       "      <td>0</td>\n",
       "      <td>0.0</td>\n",
       "      <td>3</td>\n",
       "    </tr>\n",
       "    <tr>\n",
       "      <th>1</th>\n",
       "      <td>3</td>\n",
       "      <td>1110</td>\n",
       "      <td>7</td>\n",
       "      <td>3301</td>\n",
       "      <td>15766</td>\n",
       "      <td>1216</td>\n",
       "      <td>4</td>\n",
       "      <td>33.52</td>\n",
       "      <td>0</td>\n",
       "      <td>0.0</td>\n",
       "      <td>4</td>\n",
       "    </tr>\n",
       "    <tr>\n",
       "      <th>2</th>\n",
       "      <td>3</td>\n",
       "      <td>1110</td>\n",
       "      <td>7</td>\n",
       "      <td>3301</td>\n",
       "      <td>15766</td>\n",
       "      <td>1238</td>\n",
       "      <td>4</td>\n",
       "      <td>39.32</td>\n",
       "      <td>0</td>\n",
       "      <td>0.0</td>\n",
       "      <td>4</td>\n",
       "    </tr>\n",
       "    <tr>\n",
       "      <th>3</th>\n",
       "      <td>3</td>\n",
       "      <td>1110</td>\n",
       "      <td>7</td>\n",
       "      <td>3301</td>\n",
       "      <td>15766</td>\n",
       "      <td>1240</td>\n",
       "      <td>4</td>\n",
       "      <td>33.52</td>\n",
       "      <td>0</td>\n",
       "      <td>0.0</td>\n",
       "      <td>4</td>\n",
       "    </tr>\n",
       "    <tr>\n",
       "      <th>4</th>\n",
       "      <td>3</td>\n",
       "      <td>1110</td>\n",
       "      <td>7</td>\n",
       "      <td>3301</td>\n",
       "      <td>15766</td>\n",
       "      <td>1242</td>\n",
       "      <td>3</td>\n",
       "      <td>22.92</td>\n",
       "      <td>0</td>\n",
       "      <td>0.0</td>\n",
       "      <td>3</td>\n",
       "    </tr>\n",
       "  </tbody>\n",
       "</table>\n",
       "</div>"
      ],
      "text/plain": [
       "   Semana  Agencia_ID  Canal_ID  Ruta_SAK  Cliente_ID  Producto_ID  \\\n",
       "0       3        1110         7      3301       15766         1212   \n",
       "1       3        1110         7      3301       15766         1216   \n",
       "2       3        1110         7      3301       15766         1238   \n",
       "3       3        1110         7      3301       15766         1240   \n",
       "4       3        1110         7      3301       15766         1242   \n",
       "\n",
       "   Venta_uni_hoy  Venta_hoy  Dev_uni_proxima  Dev_proxima  Demanda_uni_equil  \n",
       "0              3      25.14                0          0.0                  3  \n",
       "1              4      33.52                0          0.0                  4  \n",
       "2              4      39.32                0          0.0                  4  \n",
       "3              4      33.52                0          0.0                  4  \n",
       "4              3      22.92                0          0.0                  3  "
      ]
     },
     "execution_count": 16,
     "metadata": {},
     "output_type": "execute_result"
    }
   ],
   "source": [
    "data_candidate.head()"
   ]
  },
  {
   "cell_type": "code",
   "execution_count": 17,
   "metadata": {},
   "outputs": [
    {
     "name": "stdout",
     "output_type": "stream",
     "text": [
      "<class 'pandas.core.frame.DataFrame'>\n",
      "RangeIndex: 7974418 entries, 0 to 7974417\n",
      "Data columns (total 11 columns):\n",
      " #   Column             Dtype  \n",
      "---  ------             -----  \n",
      " 0   Semana             int64  \n",
      " 1   Agencia_ID         int64  \n",
      " 2   Canal_ID           int64  \n",
      " 3   Ruta_SAK           int64  \n",
      " 4   Cliente_ID         int64  \n",
      " 5   Producto_ID        int64  \n",
      " 6   Venta_uni_hoy      int64  \n",
      " 7   Venta_hoy          float64\n",
      " 8   Dev_uni_proxima    int64  \n",
      " 9   Dev_proxima        float64\n",
      " 10  Demanda_uni_equil  int64  \n",
      "dtypes: float64(2), int64(9)\n",
      "memory usage: 669.2 MB\n"
     ]
    }
   ],
   "source": [
    "data_candidate.info()"
   ]
  },
  {
   "cell_type": "code",
   "execution_count": 18,
   "metadata": {},
   "outputs": [
    {
     "name": "stdout",
     "output_type": "stream",
     "text": [
      "Duplicated rows: 0\n"
     ]
    }
   ],
   "source": [
    "print(f\"Duplicated rows: {data_candidate.duplicated().sum()}\")"
   ]
  },
  {
   "cell_type": "code",
   "execution_count": 19,
   "metadata": {},
   "outputs": [
    {
     "data": {
      "text/plain": [
       "(1328750, 6)"
      ]
     },
     "execution_count": 19,
     "metadata": {},
     "output_type": "execute_result"
    }
   ],
   "source": [
    "data_test = pd.read_csv(\"dftest.csv\")\n",
    "data_test.shape"
   ]
  },
  {
   "cell_type": "code",
   "execution_count": 20,
   "metadata": {},
   "outputs": [
    {
     "data": {
      "text/html": [
       "<div>\n",
       "<style scoped>\n",
       "    .dataframe tbody tr th:only-of-type {\n",
       "        vertical-align: middle;\n",
       "    }\n",
       "\n",
       "    .dataframe tbody tr th {\n",
       "        vertical-align: top;\n",
       "    }\n",
       "\n",
       "    .dataframe thead th {\n",
       "        text-align: right;\n",
       "    }\n",
       "</style>\n",
       "<table border=\"1\" class=\"dataframe\">\n",
       "  <thead>\n",
       "    <tr style=\"text-align: right;\">\n",
       "      <th></th>\n",
       "      <th>Semana</th>\n",
       "      <th>Agencia_ID</th>\n",
       "      <th>Canal_ID</th>\n",
       "      <th>Ruta_SAK</th>\n",
       "      <th>Cliente_ID</th>\n",
       "      <th>Producto_ID</th>\n",
       "    </tr>\n",
       "  </thead>\n",
       "  <tbody>\n",
       "    <tr>\n",
       "      <th>0</th>\n",
       "      <td>9</td>\n",
       "      <td>1110</td>\n",
       "      <td>7</td>\n",
       "      <td>3301</td>\n",
       "      <td>15766</td>\n",
       "      <td>1212</td>\n",
       "    </tr>\n",
       "    <tr>\n",
       "      <th>1</th>\n",
       "      <td>9</td>\n",
       "      <td>1110</td>\n",
       "      <td>7</td>\n",
       "      <td>3301</td>\n",
       "      <td>15766</td>\n",
       "      <td>1238</td>\n",
       "    </tr>\n",
       "    <tr>\n",
       "      <th>2</th>\n",
       "      <td>9</td>\n",
       "      <td>1110</td>\n",
       "      <td>7</td>\n",
       "      <td>3301</td>\n",
       "      <td>15766</td>\n",
       "      <td>1240</td>\n",
       "    </tr>\n",
       "    <tr>\n",
       "      <th>3</th>\n",
       "      <td>9</td>\n",
       "      <td>1110</td>\n",
       "      <td>7</td>\n",
       "      <td>3301</td>\n",
       "      <td>15766</td>\n",
       "      <td>1242</td>\n",
       "    </tr>\n",
       "    <tr>\n",
       "      <th>4</th>\n",
       "      <td>9</td>\n",
       "      <td>1110</td>\n",
       "      <td>7</td>\n",
       "      <td>3301</td>\n",
       "      <td>15766</td>\n",
       "      <td>1250</td>\n",
       "    </tr>\n",
       "  </tbody>\n",
       "</table>\n",
       "</div>"
      ],
      "text/plain": [
       "   Semana  Agencia_ID  Canal_ID  Ruta_SAK  Cliente_ID  Producto_ID\n",
       "0       9        1110         7      3301       15766         1212\n",
       "1       9        1110         7      3301       15766         1238\n",
       "2       9        1110         7      3301       15766         1240\n",
       "3       9        1110         7      3301       15766         1242\n",
       "4       9        1110         7      3301       15766         1250"
      ]
     },
     "execution_count": 20,
     "metadata": {},
     "output_type": "execute_result"
    }
   ],
   "source": [
    "data_test.head()"
   ]
  },
  {
   "cell_type": "code",
   "execution_count": 21,
   "metadata": {},
   "outputs": [
    {
     "name": "stdout",
     "output_type": "stream",
     "text": [
      "<class 'pandas.core.frame.DataFrame'>\n",
      "RangeIndex: 1328750 entries, 0 to 1328749\n",
      "Data columns (total 6 columns):\n",
      " #   Column       Non-Null Count    Dtype\n",
      "---  ------       --------------    -----\n",
      " 0   Semana       1328750 non-null  int64\n",
      " 1   Agencia_ID   1328750 non-null  int64\n",
      " 2   Canal_ID     1328750 non-null  int64\n",
      " 3   Ruta_SAK     1328750 non-null  int64\n",
      " 4   Cliente_ID   1328750 non-null  int64\n",
      " 5   Producto_ID  1328750 non-null  int64\n",
      "dtypes: int64(6)\n",
      "memory usage: 60.8 MB\n"
     ]
    }
   ],
   "source": [
    "data_test.info()"
   ]
  },
  {
   "cell_type": "markdown",
   "metadata": {},
   "source": [
    "First we need to complement data_candidate so we have all the available data in one data frame:"
   ]
  },
  {
   "cell_type": "code",
   "execution_count": 22,
   "metadata": {},
   "outputs": [
    {
     "name": "stdout",
     "output_type": "stream",
     "text": [
      "JOin process completed!\n"
     ]
    }
   ],
   "source": [
    "# Left join con data_estados\n",
    "merged_candidate_estados = pd.merge(data_candidate, data_estados, on='Agencia_ID', how='left')\n",
    "\n",
    "# Left join con data_clientes\n",
    "merged_candidate_estados_cleinte = pd.merge(merged_candidate_estados, data_cliente, on='Cliente_ID', how='left')\n",
    "\n",
    "# Left join con data_productos\n",
    "merged_candidate_estados_cleinte_producto = pd.merge(merged_candidate_estados_cleinte, data_producto, on='Producto_ID', how='left')\n",
    "\n",
    "full_candidate_data = merged_candidate_estados_cleinte_producto\n",
    "# Puedes ajustar los nombres de las columnas según sea necesario\n",
    "\n",
    "print(\"JOin process completed!\")"
   ]
  },
  {
   "cell_type": "markdown",
   "metadata": {},
   "source": [
    "# Data exploration"
   ]
  },
  {
   "cell_type": "markdown",
   "metadata": {},
   "source": [
    "Ok, Let's quickly inderstand how the data set is made:"
   ]
  },
  {
   "cell_type": "markdown",
   "metadata": {},
   "source": [
    "There's no evidence of null values. That's great!"
   ]
  },
  {
   "cell_type": "code",
   "execution_count": 23,
   "metadata": {},
   "outputs": [
    {
     "name": "stdout",
     "output_type": "stream",
     "text": [
      "<class 'pandas.core.frame.DataFrame'>\n",
      "Int64Index: 8014944 entries, 0 to 8014943\n",
      "Data columns (total 15 columns):\n",
      " #   Column             Dtype  \n",
      "---  ------             -----  \n",
      " 0   Semana             int64  \n",
      " 1   Agencia_ID         int64  \n",
      " 2   Canal_ID           int64  \n",
      " 3   Ruta_SAK           int64  \n",
      " 4   Cliente_ID         int64  \n",
      " 5   Producto_ID        int64  \n",
      " 6   Venta_uni_hoy      int64  \n",
      " 7   Venta_hoy          float64\n",
      " 8   Dev_uni_proxima    int64  \n",
      " 9   Dev_proxima        float64\n",
      " 10  Demanda_uni_equil  int64  \n",
      " 11  Town               object \n",
      " 12  State              object \n",
      " 13  NombreCliente      object \n",
      " 14  NombreProducto     object \n",
      "dtypes: float64(2), int64(9), object(4)\n",
      "memory usage: 978.4+ MB\n",
      "None\n",
      "Semana               0\n",
      "Agencia_ID           0\n",
      "Canal_ID             0\n",
      "Ruta_SAK             0\n",
      "Cliente_ID           0\n",
      "Producto_ID          0\n",
      "Venta_uni_hoy        0\n",
      "Venta_hoy            0\n",
      "Dev_uni_proxima      0\n",
      "Dev_proxima          0\n",
      "Demanda_uni_equil    0\n",
      "Town                 0\n",
      "State                0\n",
      "NombreCliente        0\n",
      "NombreProducto       0\n",
      "dtype: int64\n"
     ]
    }
   ],
   "source": [
    "print(full_candidate_data.info())\n",
    "print(full_candidate_data.isnull().sum())"
   ]
  },
  {
   "cell_type": "markdown",
   "metadata": {},
   "source": [
    "There is information from week 3 to 8. A total of 6 weeks, being the 3rd week the one with more registers."
   ]
  },
  {
   "cell_type": "code",
   "execution_count": 24,
   "metadata": {},
   "outputs": [
    {
     "data": {
      "text/plain": [
       "3    1440975\n",
       "4    1410277\n",
       "8    1347258\n",
       "7    1301841\n",
       "5    1287803\n",
       "6    1226790\n",
       "Name: Semana, dtype: int64"
      ]
     },
     "execution_count": 24,
     "metadata": {},
     "output_type": "execute_result"
    }
   ],
   "source": [
    "full_candidate_data.Semana.value_counts()"
   ]
  },
  {
   "cell_type": "code",
   "execution_count": 25,
   "metadata": {},
   "outputs": [
    {
     "data": {
      "image/png": "[encoded data removed]",
      "text/plain": [
       "<Figure size 640x480 with 1 Axes>"
      ]
     },
     "metadata": {},
     "output_type": "display_data"
    }
   ],
   "source": [
    "# Define the MercadoLibre brand color\n",
    "brand_color = \"#FFE600\"\n",
    "\n",
    "state_counts = full_candidate_data[\"Semana\"].value_counts()\n",
    "\n",
    "# Create a bar chart\n",
    "ax = state_counts.plot(kind='bar', color=brand_color, edgecolor='black')\n",
    "\n",
    "# Add labels and title\n",
    "ax.set_xlabel('Semana')\n",
    "ax.set_ylabel('Count')\n",
    "ax.set_title('Value Count of Semana in the DataFrame')\n",
    "\n",
    "# Add annotations (quantity on top of bars)\n",
    "for i, v in enumerate(state_counts):\n",
    "    ax.text(i, v + 0.1, '{:,}'.format(v), ha='center', va='bottom')\n",
    "\n",
    "# Show the plot\n",
    "plt.show()"
   ]
  },
  {
   "cell_type": "markdown",
   "metadata": {},
   "source": [
    "There's information realted to 3 different states: Estado de México, México, D.F. and Hidalgo. Being Estado de México the one with more registers."
   ]
  },
  {
   "cell_type": "code",
   "execution_count": 26,
   "metadata": {},
   "outputs": [
    {
     "data": {
      "text/plain": [
       "ESTADO DE MÉXICO    4430654\n",
       "MÉXICO, D.F.        3203580\n",
       "HIDALGO              380710\n",
       "Name: State, dtype: int64"
      ]
     },
     "execution_count": 26,
     "metadata": {},
     "output_type": "execute_result"
    }
   ],
   "source": [
    "full_candidate_data.State.value_counts()"
   ]
  },
  {
   "cell_type": "code",
   "execution_count": 27,
   "metadata": {},
   "outputs": [
    {
     "data": {
      "image/png": "[encoded data removed]",
      "text/plain": [
       "<Figure size 640x480 with 1 Axes>"
      ]
     },
     "metadata": {},
     "output_type": "display_data"
    }
   ],
   "source": [
    "# Define the MercadoLibre brand color\n",
    "brand_color = \"#FFE600\"\n",
    "\n",
    "state_counts = full_candidate_data[\"State\"].value_counts()\n",
    "\n",
    "# Create a bar chart\n",
    "ax = state_counts.plot(kind='bar', color=brand_color, edgecolor='black')\n",
    "\n",
    "# Add labels and title\n",
    "ax.set_xlabel('State')\n",
    "ax.set_ylabel('Count')\n",
    "ax.set_title('Value Count of States in the DataFrame')\n",
    "\n",
    "# Add annotations (quantity on top of bars)\n",
    "for i, v in enumerate(state_counts):\n",
    "    ax.text(i, v + 0.1, '{:,}'.format(v), ha='center', va='bottom')\n",
    "\n",
    "# Show the plot\n",
    "plt.show()"
   ]
  },
  {
   "cell_type": "code",
   "execution_count": 84,
   "metadata": {},
   "outputs": [
    {
     "data": {
      "image/png": "[encoded data removed]",
      "text/plain": [
       "<Figure size 640x480 with 1 Axes>"
      ]
     },
     "metadata": {},
     "output_type": "display_data"
    }
   ],
   "source": [
    "# Define the MercadoLibre brand color\n",
    "brand_color = \"#FFE600\"\n",
    "\n",
    "state_counts = full_candidate_data[\"Agencia_ID\"].value_counts()\n",
    "\n",
    "# Create a bar chart\n",
    "ax = state_counts.plot(kind='bar', color=brand_color, edgecolor='black')\n",
    "\n",
    "# Add labels and title\n",
    "ax.set_xlabel('Agencia_ID')\n",
    "ax.set_ylabel('Count')\n",
    "ax.set_title('Value Count of States in the DataFrame')\n",
    "\n",
    "# Add annotations (quantity on top of bars)\n",
    "for i, v in enumerate(state_counts):\n",
    "    ax.text(i, v + 0.1, '{:,}'.format(v), ha='center', va='bottom')\n",
    "\n",
    "# Show the plot\n",
    "plt.show()"
   ]
  },
  {
   "cell_type": "code",
   "execution_count": 37,
   "metadata": {},
   "outputs": [
    {
     "data": {
      "image/png": "[encoded data removed]",
      "text/plain": [
       "<Figure size 640x480 with 1 Axes>"
      ]
     },
     "metadata": {},
     "output_type": "display_data"
    }
   ],
   "source": [
    "# Define the MercadoLibre brand color\n",
    "brand_color = \"#FFE600\"\n",
    "\n",
    "state_counts = full_candidate_data[\"Town\"].value_counts()\n",
    "\n",
    "# Create a bar chart\n",
    "ax = state_counts.plot(kind='bar', color=brand_color, edgecolor='black')\n",
    "\n",
    "# Add labels and title\n",
    "ax.set_xlabel('Town')\n",
    "ax.set_ylabel('Count')\n",
    "ax.set_title('Value Count of Town in the DataFrame')\n",
    "\n",
    "# Add annotations (quantity on top of bars)\n",
    "for i, v in enumerate(state_counts):\n",
    "    ax.text(i, v + 0.1, '{:,}'.format(v), ha='center', va='bottom')\n",
    "\n",
    "# Show the plot\n",
    "plt.show()"
   ]
  },
  {
   "cell_type": "code",
   "execution_count": 46,
   "metadata": {},
   "outputs": [
    {
     "data": {
      "image/png": "[encoded data removed]",
      "text/plain": [
       "<Figure size 640x480 with 1 Axes>"
      ]
     },
     "metadata": {},
     "output_type": "display_data"
    }
   ],
   "source": [
    "# Define the MercadoLibre brand color\n",
    "brand_color = \"#FFE600\"\n",
    "\n",
    "town_sales = full_candidate_data[\"Venta_uni_hoy\"].sum()\n",
    "\n",
    "# Create a bar chart\n",
    "ax = state_counts.plot(kind='bar', color=brand_color, edgecolor='black')\n",
    "\n",
    "# Add labels and title\n",
    "ax.set_xlabel('Town')\n",
    "ax.set_ylabel('Sales')\n",
    "ax.set_title('Sales of Town in the DataFrame')\n",
    "\n",
    "# Add annotations (quantity on top of bars)\n",
    "for i, v in enumerate(state_counts):\n",
    "    ax.text(i, v + 0.1, '{:,}'.format(v), ha='center', va='bottom')\n",
    "\n",
    "# Show the plot\n",
    "plt.show()"
   ]
  },
  {
   "cell_type": "markdown",
   "metadata": {},
   "source": [
    "As the assessment mention: **\"La demanda de un producto en una semana determinada se define como las ventas de esta semana restado por el retorno de la próxima semana.\"**\n",
    "\n",
    "Let's check this assumptions is true on data:"
   ]
  },
  {
   "cell_type": "markdown",
   "metadata": {},
   "source": [
    "By looking for rows where \"Dev_uni_proximo\" is not 0, we can find that somedays the devs are grather than sells. In those days Demanda is equal to 0."
   ]
  },
  {
   "cell_type": "code",
   "execution_count": 28,
   "metadata": {},
   "outputs": [
    {
     "name": "stdout",
     "output_type": "stream",
     "text": [
      "     Venta_uni_hoy  Dev_uni_proxima  Demanda_uni_equil\n",
      "91               0                2                  0\n",
      "117              2                1                  1\n",
      "230              0                2                  0\n",
      "284              2                1                  1\n",
      "289              7                1                  6\n"
     ]
    }
   ],
   "source": [
    "\n",
    "required_columns = [\"Venta_uni_hoy\", \"Dev_uni_proxima\", \"Demanda_uni_equil\"]\n",
    "filter = full_candidate_data.loc[full_candidate_data['Dev_uni_proxima'] != 0, required_columns]\n",
    "\n",
    "print(filter.head(5))\n"
   ]
  },
  {
   "cell_type": "markdown",
   "metadata": {},
   "source": [
    "Let's check the global numbers by week to check that everyting follow the rule:"
   ]
  },
  {
   "cell_type": "code",
   "execution_count": 29,
   "metadata": {},
   "outputs": [
    {
     "data": {
      "text/html": [
       "<div>\n",
       "<style scoped>\n",
       "    .dataframe tbody tr th:only-of-type {\n",
       "        vertical-align: middle;\n",
       "    }\n",
       "\n",
       "    .dataframe tbody tr th {\n",
       "        vertical-align: top;\n",
       "    }\n",
       "\n",
       "    .dataframe thead th {\n",
       "        text-align: right;\n",
       "    }\n",
       "</style>\n",
       "<table border=\"1\" class=\"dataframe\">\n",
       "  <thead>\n",
       "    <tr style=\"text-align: right;\">\n",
       "      <th></th>\n",
       "      <th>Demanda_uni_equil</th>\n",
       "      <th>Dev_uni_proxima</th>\n",
       "      <th>Venta_uni_hoy</th>\n",
       "    </tr>\n",
       "    <tr>\n",
       "      <th>Semana</th>\n",
       "      <th></th>\n",
       "      <th></th>\n",
       "      <th></th>\n",
       "    </tr>\n",
       "  </thead>\n",
       "  <tbody>\n",
       "    <tr>\n",
       "      <th>3</th>\n",
       "      <td>10318145</td>\n",
       "      <td>136118</td>\n",
       "      <td>10415883</td>\n",
       "    </tr>\n",
       "    <tr>\n",
       "      <th>4</th>\n",
       "      <td>10557170</td>\n",
       "      <td>133343</td>\n",
       "      <td>10651609</td>\n",
       "    </tr>\n",
       "    <tr>\n",
       "      <th>5</th>\n",
       "      <td>9836409</td>\n",
       "      <td>125603</td>\n",
       "      <td>9932558</td>\n",
       "    </tr>\n",
       "    <tr>\n",
       "      <th>6</th>\n",
       "      <td>9366322</td>\n",
       "      <td>134062</td>\n",
       "      <td>9461529</td>\n",
       "    </tr>\n",
       "    <tr>\n",
       "      <th>7</th>\n",
       "      <td>9834503</td>\n",
       "      <td>155410</td>\n",
       "      <td>9943243</td>\n",
       "    </tr>\n",
       "    <tr>\n",
       "      <th>8</th>\n",
       "      <td>10082281</td>\n",
       "      <td>150700</td>\n",
       "      <td>10186415</td>\n",
       "    </tr>\n",
       "  </tbody>\n",
       "</table>\n",
       "</div>"
      ],
      "text/plain": [
       "        Demanda_uni_equil  Dev_uni_proxima  Venta_uni_hoy\n",
       "Semana                                                   \n",
       "3                10318145           136118       10415883\n",
       "4                10557170           133343       10651609\n",
       "5                 9836409           125603        9932558\n",
       "6                 9366322           134062        9461529\n",
       "7                 9834503           155410        9943243\n",
       "8                10082281           150700       10186415"
      ]
     },
     "execution_count": 29,
     "metadata": {},
     "output_type": "execute_result"
    }
   ],
   "source": [
    "week_totals = full_candidate_data.pivot_table(values = [\"Demanda_uni_equil\", \"Venta_uni_hoy\", \"Dev_uni_proxima\"],\n",
    "                                              index = 'Semana', aggfunc = 'sum')\n",
    "week_totals"
   ]
  },
  {
   "cell_type": "markdown",
   "metadata": {},
   "source": [
    "Ok, there's an important thing to know: **Damanda is calculated as we menssion before, if the devs are grather than sells in the day, the Demanda is 0.** To ensure this is true I will calculate myself Demanda an see if the rule is correct."
   ]
  },
  {
   "cell_type": "code",
   "execution_count": 30,
   "metadata": {},
   "outputs": [],
   "source": [
    "full_candidate_data['Calculated_demanda'] = full_candidate_data.apply(\n",
    "    lambda row: max(row['Venta_uni_hoy'] - row['Dev_uni_proxima'], 0) if row['Dev_uni_proxima'] <= row['Venta_uni_hoy'] else 0,\n",
    "    axis=1\n",
    ")"
   ]
  },
  {
   "cell_type": "code",
   "execution_count": 31,
   "metadata": {},
   "outputs": [
    {
     "name": "stdout",
     "output_type": "stream",
     "text": [
      "     Venta_uni_hoy  Dev_uni_proxima  Demanda_uni_equil  Calculated_demanda\n",
      "91               0                2                  0                   0\n",
      "117              2                1                  1                   1\n",
      "230              0                2                  0                   0\n",
      "284              2                1                  1                   1\n",
      "289              7                1                  6                   6\n"
     ]
    }
   ],
   "source": [
    "required_columns = [\"Venta_uni_hoy\", \"Dev_uni_proxima\", \"Demanda_uni_equil\", \"Calculated_demanda\"]\n",
    "filter = full_candidate_data.loc[full_candidate_data['Dev_uni_proxima'] != 0, required_columns]\n",
    "\n",
    "print(filter.head(5))"
   ]
  },
  {
   "cell_type": "code",
   "execution_count": 32,
   "metadata": {},
   "outputs": [
    {
     "data": {
      "text/html": [
       "<div>\n",
       "<style scoped>\n",
       "    .dataframe tbody tr th:only-of-type {\n",
       "        vertical-align: middle;\n",
       "    }\n",
       "\n",
       "    .dataframe tbody tr th {\n",
       "        vertical-align: top;\n",
       "    }\n",
       "\n",
       "    .dataframe thead th {\n",
       "        text-align: right;\n",
       "    }\n",
       "</style>\n",
       "<table border=\"1\" class=\"dataframe\">\n",
       "  <thead>\n",
       "    <tr style=\"text-align: right;\">\n",
       "      <th></th>\n",
       "      <th>Calculated_demanda</th>\n",
       "      <th>Demanda_uni_equil</th>\n",
       "      <th>Dev_uni_proxima</th>\n",
       "      <th>Venta_uni_hoy</th>\n",
       "    </tr>\n",
       "    <tr>\n",
       "      <th>Semana</th>\n",
       "      <th></th>\n",
       "      <th></th>\n",
       "      <th></th>\n",
       "      <th></th>\n",
       "    </tr>\n",
       "  </thead>\n",
       "  <tbody>\n",
       "    <tr>\n",
       "      <th>3</th>\n",
       "      <td>10318145</td>\n",
       "      <td>10318145</td>\n",
       "      <td>136118</td>\n",
       "      <td>10415883</td>\n",
       "    </tr>\n",
       "    <tr>\n",
       "      <th>4</th>\n",
       "      <td>10557170</td>\n",
       "      <td>10557170</td>\n",
       "      <td>133343</td>\n",
       "      <td>10651609</td>\n",
       "    </tr>\n",
       "    <tr>\n",
       "      <th>5</th>\n",
       "      <td>9836409</td>\n",
       "      <td>9836409</td>\n",
       "      <td>125603</td>\n",
       "      <td>9932558</td>\n",
       "    </tr>\n",
       "    <tr>\n",
       "      <th>6</th>\n",
       "      <td>9366322</td>\n",
       "      <td>9366322</td>\n",
       "      <td>134062</td>\n",
       "      <td>9461529</td>\n",
       "    </tr>\n",
       "    <tr>\n",
       "      <th>7</th>\n",
       "      <td>9834503</td>\n",
       "      <td>9834503</td>\n",
       "      <td>155410</td>\n",
       "      <td>9943243</td>\n",
       "    </tr>\n",
       "    <tr>\n",
       "      <th>8</th>\n",
       "      <td>10082281</td>\n",
       "      <td>10082281</td>\n",
       "      <td>150700</td>\n",
       "      <td>10186415</td>\n",
       "    </tr>\n",
       "  </tbody>\n",
       "</table>\n",
       "</div>"
      ],
      "text/plain": [
       "        Calculated_demanda  Demanda_uni_equil  Dev_uni_proxima  Venta_uni_hoy\n",
       "Semana                                                                       \n",
       "3                 10318145           10318145           136118       10415883\n",
       "4                 10557170           10557170           133343       10651609\n",
       "5                  9836409            9836409           125603        9932558\n",
       "6                  9366322            9366322           134062        9461529\n",
       "7                  9834503            9834503           155410        9943243\n",
       "8                 10082281           10082281           150700       10186415"
      ]
     },
     "execution_count": 32,
     "metadata": {},
     "output_type": "execute_result"
    }
   ],
   "source": [
    "week_totals = full_candidate_data.pivot_table(values = [\"Demanda_uni_equil\", \"Venta_uni_hoy\", \"Dev_uni_proxima\", \"Calculated_demanda\"],\n",
    "                                              index = 'Semana', aggfunc = 'sum')\n",
    "week_totals"
   ]
  },
  {
   "cell_type": "markdown",
   "metadata": {},
   "source": [
    "Right, all rows follow that rule. Now we are sure about it."
   ]
  },
  {
   "cell_type": "markdown",
   "metadata": {},
   "source": [
    "Ok, now let's drop unnecesary columns, specially those which are just Id columnas:"
   ]
  },
  {
   "cell_type": "code",
   "execution_count": 33,
   "metadata": {},
   "outputs": [
    {
     "data": {
      "text/plain": [
       "Index(['Semana', 'Agencia_ID', 'Canal_ID', 'Ruta_SAK', 'Cliente_ID',\n",
       "       'Producto_ID', 'Venta_uni_hoy', 'Venta_hoy', 'Dev_uni_proxima',\n",
       "       'Dev_proxima', 'Demanda_uni_equil', 'Town', 'State', 'NombreCliente',\n",
       "       'NombreProducto', 'Calculated_demanda'],\n",
       "      dtype='object')"
      ]
     },
     "execution_count": 33,
     "metadata": {},
     "output_type": "execute_result"
    }
   ],
   "source": [
    "full_candidate_data.columns"
   ]
  },
  {
   "cell_type": "code",
   "execution_count": 34,
   "metadata": {},
   "outputs": [
    {
     "data": {
      "text/html": [
       "<div>\n",
       "<style scoped>\n",
       "    .dataframe tbody tr th:only-of-type {\n",
       "        vertical-align: middle;\n",
       "    }\n",
       "\n",
       "    .dataframe tbody tr th {\n",
       "        vertical-align: top;\n",
       "    }\n",
       "\n",
       "    .dataframe thead th {\n",
       "        text-align: right;\n",
       "    }\n",
       "</style>\n",
       "<table border=\"1\" class=\"dataframe\">\n",
       "  <thead>\n",
       "    <tr style=\"text-align: right;\">\n",
       "      <th></th>\n",
       "      <th>Semana</th>\n",
       "      <th>Agencia_ID</th>\n",
       "      <th>Canal_ID</th>\n",
       "      <th>Ruta_SAK</th>\n",
       "      <th>Cliente_ID</th>\n",
       "      <th>Producto_ID</th>\n",
       "      <th>Venta_uni_hoy</th>\n",
       "      <th>Venta_hoy</th>\n",
       "      <th>Dev_uni_proxima</th>\n",
       "      <th>Dev_proxima</th>\n",
       "      <th>Demanda_uni_equil</th>\n",
       "      <th>Town</th>\n",
       "      <th>State</th>\n",
       "      <th>NombreCliente</th>\n",
       "      <th>NombreProducto</th>\n",
       "      <th>Calculated_demanda</th>\n",
       "    </tr>\n",
       "  </thead>\n",
       "  <tbody>\n",
       "    <tr>\n",
       "      <th>0</th>\n",
       "      <td>3</td>\n",
       "      <td>1110</td>\n",
       "      <td>7</td>\n",
       "      <td>3301</td>\n",
       "      <td>15766</td>\n",
       "      <td>1212</td>\n",
       "      <td>3</td>\n",
       "      <td>25.14</td>\n",
       "      <td>0</td>\n",
       "      <td>0.0</td>\n",
       "      <td>3</td>\n",
       "      <td>2008 AG. LAGO FILT</td>\n",
       "      <td>MÉXICO, D.F.</td>\n",
       "      <td>PUESTO DE PERIODICOS LAZARO</td>\n",
       "      <td>Roles Canela 2p 120g BIM 1212</td>\n",
       "      <td>3</td>\n",
       "    </tr>\n",
       "    <tr>\n",
       "      <th>1</th>\n",
       "      <td>3</td>\n",
       "      <td>1110</td>\n",
       "      <td>7</td>\n",
       "      <td>3301</td>\n",
       "      <td>15766</td>\n",
       "      <td>1216</td>\n",
       "      <td>4</td>\n",
       "      <td>33.52</td>\n",
       "      <td>0</td>\n",
       "      <td>0.0</td>\n",
       "      <td>4</td>\n",
       "      <td>2008 AG. LAGO FILT</td>\n",
       "      <td>MÉXICO, D.F.</td>\n",
       "      <td>PUESTO DE PERIODICOS LAZARO</td>\n",
       "      <td>Roles Glass 2p 135g BIM 1216</td>\n",
       "      <td>4</td>\n",
       "    </tr>\n",
       "    <tr>\n",
       "      <th>2</th>\n",
       "      <td>3</td>\n",
       "      <td>1110</td>\n",
       "      <td>7</td>\n",
       "      <td>3301</td>\n",
       "      <td>15766</td>\n",
       "      <td>1238</td>\n",
       "      <td>4</td>\n",
       "      <td>39.32</td>\n",
       "      <td>0</td>\n",
       "      <td>0.0</td>\n",
       "      <td>4</td>\n",
       "      <td>2008 AG. LAGO FILT</td>\n",
       "      <td>MÉXICO, D.F.</td>\n",
       "      <td>PUESTO DE PERIODICOS LAZARO</td>\n",
       "      <td>Panquecito Gota Choc 2p 140g BIM 1238</td>\n",
       "      <td>4</td>\n",
       "    </tr>\n",
       "    <tr>\n",
       "      <th>3</th>\n",
       "      <td>3</td>\n",
       "      <td>1110</td>\n",
       "      <td>7</td>\n",
       "      <td>3301</td>\n",
       "      <td>15766</td>\n",
       "      <td>1240</td>\n",
       "      <td>4</td>\n",
       "      <td>33.52</td>\n",
       "      <td>0</td>\n",
       "      <td>0.0</td>\n",
       "      <td>4</td>\n",
       "      <td>2008 AG. LAGO FILT</td>\n",
       "      <td>MÉXICO, D.F.</td>\n",
       "      <td>PUESTO DE PERIODICOS LAZARO</td>\n",
       "      <td>Mantecadas Vainilla 4p 125g BIM 1240</td>\n",
       "      <td>4</td>\n",
       "    </tr>\n",
       "    <tr>\n",
       "      <th>4</th>\n",
       "      <td>3</td>\n",
       "      <td>1110</td>\n",
       "      <td>7</td>\n",
       "      <td>3301</td>\n",
       "      <td>15766</td>\n",
       "      <td>1242</td>\n",
       "      <td>3</td>\n",
       "      <td>22.92</td>\n",
       "      <td>0</td>\n",
       "      <td>0.0</td>\n",
       "      <td>3</td>\n",
       "      <td>2008 AG. LAGO FILT</td>\n",
       "      <td>MÉXICO, D.F.</td>\n",
       "      <td>PUESTO DE PERIODICOS LAZARO</td>\n",
       "      <td>Donitas Espolvoreadas 6p 105g BIM 1242</td>\n",
       "      <td>3</td>\n",
       "    </tr>\n",
       "  </tbody>\n",
       "</table>\n",
       "</div>"
      ],
      "text/plain": [
       "   Semana  Agencia_ID  Canal_ID  Ruta_SAK  Cliente_ID  Producto_ID  \\\n",
       "0       3        1110         7      3301       15766         1212   \n",
       "1       3        1110         7      3301       15766         1216   \n",
       "2       3        1110         7      3301       15766         1238   \n",
       "3       3        1110         7      3301       15766         1240   \n",
       "4       3        1110         7      3301       15766         1242   \n",
       "\n",
       "   Venta_uni_hoy  Venta_hoy  Dev_uni_proxima  Dev_proxima  Demanda_uni_equil  \\\n",
       "0              3      25.14                0          0.0                  3   \n",
       "1              4      33.52                0          0.0                  4   \n",
       "2              4      39.32                0          0.0                  4   \n",
       "3              4      33.52                0          0.0                  4   \n",
       "4              3      22.92                0          0.0                  3   \n",
       "\n",
       "                 Town         State                NombreCliente  \\\n",
       "0  2008 AG. LAGO FILT  MÉXICO, D.F.  PUESTO DE PERIODICOS LAZARO   \n",
       "1  2008 AG. LAGO FILT  MÉXICO, D.F.  PUESTO DE PERIODICOS LAZARO   \n",
       "2  2008 AG. LAGO FILT  MÉXICO, D.F.  PUESTO DE PERIODICOS LAZARO   \n",
       "3  2008 AG. LAGO FILT  MÉXICO, D.F.  PUESTO DE PERIODICOS LAZARO   \n",
       "4  2008 AG. LAGO FILT  MÉXICO, D.F.  PUESTO DE PERIODICOS LAZARO   \n",
       "\n",
       "                           NombreProducto  Calculated_demanda  \n",
       "0           Roles Canela 2p 120g BIM 1212                   3  \n",
       "1            Roles Glass 2p 135g BIM 1216                   4  \n",
       "2   Panquecito Gota Choc 2p 140g BIM 1238                   4  \n",
       "3    Mantecadas Vainilla 4p 125g BIM 1240                   4  \n",
       "4  Donitas Espolvoreadas 6p 105g BIM 1242                   3  "
      ]
     },
     "execution_count": 34,
     "metadata": {},
     "output_type": "execute_result"
    }
   ],
   "source": [
    "full_candidate_data.head()"
   ]
  },
  {
   "cell_type": "code",
   "execution_count": 35,
   "metadata": {},
   "outputs": [
    {
     "data": {
      "text/html": [
       "<div>\n",
       "<style scoped>\n",
       "    .dataframe tbody tr th:only-of-type {\n",
       "        vertical-align: middle;\n",
       "    }\n",
       "\n",
       "    .dataframe tbody tr th {\n",
       "        vertical-align: top;\n",
       "    }\n",
       "\n",
       "    .dataframe thead th {\n",
       "        text-align: right;\n",
       "    }\n",
       "</style>\n",
       "<table border=\"1\" class=\"dataframe\">\n",
       "  <thead>\n",
       "    <tr style=\"text-align: right;\">\n",
       "      <th></th>\n",
       "      <th>Semana</th>\n",
       "      <th>Agencia_ID</th>\n",
       "      <th>Venta_uni_hoy</th>\n",
       "      <th>Venta_hoy</th>\n",
       "      <th>Dev_uni_proxima</th>\n",
       "      <th>Dev_proxima</th>\n",
       "      <th>Demanda_uni_equil</th>\n",
       "      <th>Town</th>\n",
       "      <th>State</th>\n",
       "      <th>NombreCliente</th>\n",
       "      <th>NombreProducto</th>\n",
       "    </tr>\n",
       "  </thead>\n",
       "  <tbody>\n",
       "    <tr>\n",
       "      <th>0</th>\n",
       "      <td>3</td>\n",
       "      <td>1110</td>\n",
       "      <td>3</td>\n",
       "      <td>25.14</td>\n",
       "      <td>0</td>\n",
       "      <td>0.0</td>\n",
       "      <td>3</td>\n",
       "      <td>2008 AG. LAGO FILT</td>\n",
       "      <td>MÉXICO, D.F.</td>\n",
       "      <td>PUESTO DE PERIODICOS LAZARO</td>\n",
       "      <td>Roles Canela 2p 120g BIM 1212</td>\n",
       "    </tr>\n",
       "    <tr>\n",
       "      <th>1</th>\n",
       "      <td>3</td>\n",
       "      <td>1110</td>\n",
       "      <td>4</td>\n",
       "      <td>33.52</td>\n",
       "      <td>0</td>\n",
       "      <td>0.0</td>\n",
       "      <td>4</td>\n",
       "      <td>2008 AG. LAGO FILT</td>\n",
       "      <td>MÉXICO, D.F.</td>\n",
       "      <td>PUESTO DE PERIODICOS LAZARO</td>\n",
       "      <td>Roles Glass 2p 135g BIM 1216</td>\n",
       "    </tr>\n",
       "    <tr>\n",
       "      <th>2</th>\n",
       "      <td>3</td>\n",
       "      <td>1110</td>\n",
       "      <td>4</td>\n",
       "      <td>39.32</td>\n",
       "      <td>0</td>\n",
       "      <td>0.0</td>\n",
       "      <td>4</td>\n",
       "      <td>2008 AG. LAGO FILT</td>\n",
       "      <td>MÉXICO, D.F.</td>\n",
       "      <td>PUESTO DE PERIODICOS LAZARO</td>\n",
       "      <td>Panquecito Gota Choc 2p 140g BIM 1238</td>\n",
       "    </tr>\n",
       "    <tr>\n",
       "      <th>3</th>\n",
       "      <td>3</td>\n",
       "      <td>1110</td>\n",
       "      <td>4</td>\n",
       "      <td>33.52</td>\n",
       "      <td>0</td>\n",
       "      <td>0.0</td>\n",
       "      <td>4</td>\n",
       "      <td>2008 AG. LAGO FILT</td>\n",
       "      <td>MÉXICO, D.F.</td>\n",
       "      <td>PUESTO DE PERIODICOS LAZARO</td>\n",
       "      <td>Mantecadas Vainilla 4p 125g BIM 1240</td>\n",
       "    </tr>\n",
       "    <tr>\n",
       "      <th>4</th>\n",
       "      <td>3</td>\n",
       "      <td>1110</td>\n",
       "      <td>3</td>\n",
       "      <td>22.92</td>\n",
       "      <td>0</td>\n",
       "      <td>0.0</td>\n",
       "      <td>3</td>\n",
       "      <td>2008 AG. LAGO FILT</td>\n",
       "      <td>MÉXICO, D.F.</td>\n",
       "      <td>PUESTO DE PERIODICOS LAZARO</td>\n",
       "      <td>Donitas Espolvoreadas 6p 105g BIM 1242</td>\n",
       "    </tr>\n",
       "  </tbody>\n",
       "</table>\n",
       "</div>"
      ],
      "text/plain": [
       "   Semana  Agencia_ID  Venta_uni_hoy  Venta_hoy  Dev_uni_proxima  Dev_proxima  \\\n",
       "0       3        1110              3      25.14                0          0.0   \n",
       "1       3        1110              4      33.52                0          0.0   \n",
       "2       3        1110              4      39.32                0          0.0   \n",
       "3       3        1110              4      33.52                0          0.0   \n",
       "4       3        1110              3      22.92                0          0.0   \n",
       "\n",
       "   Demanda_uni_equil                Town         State  \\\n",
       "0                  3  2008 AG. LAGO FILT  MÉXICO, D.F.   \n",
       "1                  4  2008 AG. LAGO FILT  MÉXICO, D.F.   \n",
       "2                  4  2008 AG. LAGO FILT  MÉXICO, D.F.   \n",
       "3                  4  2008 AG. LAGO FILT  MÉXICO, D.F.   \n",
       "4                  3  2008 AG. LAGO FILT  MÉXICO, D.F.   \n",
       "\n",
       "                 NombreCliente                          NombreProducto  \n",
       "0  PUESTO DE PERIODICOS LAZARO           Roles Canela 2p 120g BIM 1212  \n",
       "1  PUESTO DE PERIODICOS LAZARO            Roles Glass 2p 135g BIM 1216  \n",
       "2  PUESTO DE PERIODICOS LAZARO   Panquecito Gota Choc 2p 140g BIM 1238  \n",
       "3  PUESTO DE PERIODICOS LAZARO    Mantecadas Vainilla 4p 125g BIM 1240  \n",
       "4  PUESTO DE PERIODICOS LAZARO  Donitas Espolvoreadas 6p 105g BIM 1242  "
      ]
     },
     "execution_count": 35,
     "metadata": {},
     "output_type": "execute_result"
    }
   ],
   "source": [
    "full_candidate_data_clean = full_candidate_data[[\"Semana\", \"Agencia_ID\", \"Venta_uni_hoy\", \"Venta_hoy\", \"Dev_uni_proxima\", \"Dev_proxima\",\n",
    "                                                 \"Demanda_uni_equil\", \"Town\", \"State\", \"NombreCliente\", \"NombreProducto\"]]\n",
    "full_candidate_data_clean.head()"
   ]
  },
  {
   "cell_type": "markdown",
   "metadata": {},
   "source": [
    "# TASK: Identifiying Agencia to predict:"
   ]
  },
  {
   "cell_type": "markdown",
   "metadata": {},
   "source": [
    "Ok, now need to take in consideration 2 key aspects to define the Agencia to predict:\n",
    "1. **Demanda:** Demanda is the most important driver for any desicion-making process. Keeping this in mind We need to have certanty of the top Agencia based on its Demanda. At first sight seem that Agencia_ID 1129,1142 and 1123 are suitable.\n",
    "2. **Number of registers available.** As we saw in a plot above, the Agencia with more data available is 1123. This is excellent! Also is on top 3 of Agencia with more Demanda.\n",
    "\n",
    "**In conclusion Agencia_ID 1123 is the one with more data available and the 3rd most important in Demanda so this will be the one selected for the model.**"
   ]
  },
  {
   "cell_type": "code",
   "execution_count": 86,
   "metadata": {},
   "outputs": [
    {
     "data": {
      "text/html": [
       "<div>\n",
       "<style scoped>\n",
       "    .dataframe tbody tr th:only-of-type {\n",
       "        vertical-align: middle;\n",
       "    }\n",
       "\n",
       "    .dataframe tbody tr th {\n",
       "        vertical-align: top;\n",
       "    }\n",
       "\n",
       "    .dataframe thead th {\n",
       "        text-align: right;\n",
       "    }\n",
       "</style>\n",
       "<table border=\"1\" class=\"dataframe\">\n",
       "  <thead>\n",
       "    <tr style=\"text-align: right;\">\n",
       "      <th></th>\n",
       "      <th>Demanda_uni_equil</th>\n",
       "      <th>Dev_uni_proxima</th>\n",
       "      <th>Venta_uni_hoy</th>\n",
       "      <th>Count</th>\n",
       "    </tr>\n",
       "    <tr>\n",
       "      <th>Agencia_ID</th>\n",
       "      <th></th>\n",
       "      <th></th>\n",
       "      <th></th>\n",
       "      <th></th>\n",
       "    </tr>\n",
       "  </thead>\n",
       "  <tbody>\n",
       "    <tr>\n",
       "      <th>1129</th>\n",
       "      <td>3254799</td>\n",
       "      <td>17548</td>\n",
       "      <td>3269823</td>\n",
       "      <td>43185</td>\n",
       "    </tr>\n",
       "    <tr>\n",
       "      <th>1142</th>\n",
       "      <td>3012039</td>\n",
       "      <td>32004</td>\n",
       "      <td>3040135</td>\n",
       "      <td>43528</td>\n",
       "    </tr>\n",
       "    <tr>\n",
       "      <th>1123</th>\n",
       "      <td>3005332</td>\n",
       "      <td>45951</td>\n",
       "      <td>3037822</td>\n",
       "      <td>628521</td>\n",
       "    </tr>\n",
       "    <tr>\n",
       "      <th>1114</th>\n",
       "      <td>2902276</td>\n",
       "      <td>128012</td>\n",
       "      <td>3017499</td>\n",
       "      <td>41305</td>\n",
       "    </tr>\n",
       "    <tr>\n",
       "      <th>1121</th>\n",
       "      <td>2825251</td>\n",
       "      <td>24045</td>\n",
       "      <td>2843229</td>\n",
       "      <td>466461</td>\n",
       "    </tr>\n",
       "    <tr>\n",
       "      <th>1126</th>\n",
       "      <td>2789773</td>\n",
       "      <td>28969</td>\n",
       "      <td>2812699</td>\n",
       "      <td>495889</td>\n",
       "    </tr>\n",
       "    <tr>\n",
       "      <th>1117</th>\n",
       "      <td>2719317</td>\n",
       "      <td>44820</td>\n",
       "      <td>2750388</td>\n",
       "      <td>484264</td>\n",
       "    </tr>\n",
       "    <tr>\n",
       "      <th>1116</th>\n",
       "      <td>2630448</td>\n",
       "      <td>31405</td>\n",
       "      <td>2652403</td>\n",
       "      <td>415783</td>\n",
       "    </tr>\n",
       "    <tr>\n",
       "      <th>1120</th>\n",
       "      <td>2479288</td>\n",
       "      <td>22368</td>\n",
       "      <td>2495510</td>\n",
       "      <td>401507</td>\n",
       "    </tr>\n",
       "    <tr>\n",
       "      <th>1122</th>\n",
       "      <td>2405850</td>\n",
       "      <td>21852</td>\n",
       "      <td>2423151</td>\n",
       "      <td>396120</td>\n",
       "    </tr>\n",
       "    <tr>\n",
       "      <th>1111</th>\n",
       "      <td>2325763</td>\n",
       "      <td>21584</td>\n",
       "      <td>2341908</td>\n",
       "      <td>386909</td>\n",
       "    </tr>\n",
       "    <tr>\n",
       "      <th>1130</th>\n",
       "      <td>2296504</td>\n",
       "      <td>42015</td>\n",
       "      <td>2325260</td>\n",
       "      <td>402224</td>\n",
       "    </tr>\n",
       "    <tr>\n",
       "      <th>1168</th>\n",
       "      <td>2286822</td>\n",
       "      <td>27332</td>\n",
       "      <td>2311326</td>\n",
       "      <td>37479</td>\n",
       "    </tr>\n",
       "    <tr>\n",
       "      <th>1137</th>\n",
       "      <td>2222473</td>\n",
       "      <td>46266</td>\n",
       "      <td>2250988</td>\n",
       "      <td>398591</td>\n",
       "    </tr>\n",
       "    <tr>\n",
       "      <th>1118</th>\n",
       "      <td>2028168</td>\n",
       "      <td>18023</td>\n",
       "      <td>2041608</td>\n",
       "      <td>309564</td>\n",
       "    </tr>\n",
       "    <tr>\n",
       "      <th>1138</th>\n",
       "      <td>2010098</td>\n",
       "      <td>18404</td>\n",
       "      <td>2023350</td>\n",
       "      <td>305690</td>\n",
       "    </tr>\n",
       "    <tr>\n",
       "      <th>1119</th>\n",
       "      <td>1988546</td>\n",
       "      <td>34690</td>\n",
       "      <td>2013407</td>\n",
       "      <td>363217</td>\n",
       "    </tr>\n",
       "    <tr>\n",
       "      <th>1124</th>\n",
       "      <td>1915526</td>\n",
       "      <td>40446</td>\n",
       "      <td>1942670</td>\n",
       "      <td>333940</td>\n",
       "    </tr>\n",
       "    <tr>\n",
       "      <th>1153</th>\n",
       "      <td>1850740</td>\n",
       "      <td>22621</td>\n",
       "      <td>1867143</td>\n",
       "      <td>380710</td>\n",
       "    </tr>\n",
       "    <tr>\n",
       "      <th>1127</th>\n",
       "      <td>1775207</td>\n",
       "      <td>19903</td>\n",
       "      <td>1789426</td>\n",
       "      <td>343625</td>\n",
       "    </tr>\n",
       "    <tr>\n",
       "      <th>1140</th>\n",
       "      <td>1677444</td>\n",
       "      <td>26492</td>\n",
       "      <td>1695512</td>\n",
       "      <td>350497</td>\n",
       "    </tr>\n",
       "    <tr>\n",
       "      <th>1112</th>\n",
       "      <td>1670180</td>\n",
       "      <td>20273</td>\n",
       "      <td>1684877</td>\n",
       "      <td>304889</td>\n",
       "    </tr>\n",
       "    <tr>\n",
       "      <th>1113</th>\n",
       "      <td>1240981</td>\n",
       "      <td>10421</td>\n",
       "      <td>1248549</td>\n",
       "      <td>175255</td>\n",
       "    </tr>\n",
       "    <tr>\n",
       "      <th>1150</th>\n",
       "      <td>1126956</td>\n",
       "      <td>4008</td>\n",
       "      <td>1129709</td>\n",
       "      <td>96875</td>\n",
       "    </tr>\n",
       "    <tr>\n",
       "      <th>1110</th>\n",
       "      <td>793855</td>\n",
       "      <td>32883</td>\n",
       "      <td>796370</td>\n",
       "      <td>48004</td>\n",
       "    </tr>\n",
       "    <tr>\n",
       "      <th>1152</th>\n",
       "      <td>708257</td>\n",
       "      <td>5962</td>\n",
       "      <td>712501</td>\n",
       "      <td>59002</td>\n",
       "    </tr>\n",
       "    <tr>\n",
       "      <th>1143</th>\n",
       "      <td>647617</td>\n",
       "      <td>9248</td>\n",
       "      <td>648900</td>\n",
       "      <td>41555</td>\n",
       "    </tr>\n",
       "    <tr>\n",
       "      <th>1139</th>\n",
       "      <td>548314</td>\n",
       "      <td>17807</td>\n",
       "      <td>554280</td>\n",
       "      <td>37640</td>\n",
       "    </tr>\n",
       "    <tr>\n",
       "      <th>1146</th>\n",
       "      <td>498627</td>\n",
       "      <td>3498</td>\n",
       "      <td>501345</td>\n",
       "      <td>49699</td>\n",
       "    </tr>\n",
       "    <tr>\n",
       "      <th>1165</th>\n",
       "      <td>375650</td>\n",
       "      <td>448</td>\n",
       "      <td>375976</td>\n",
       "      <td>25363</td>\n",
       "    </tr>\n",
       "    <tr>\n",
       "      <th>1167</th>\n",
       "      <td>290604</td>\n",
       "      <td>0</td>\n",
       "      <td>290604</td>\n",
       "      <td>3769</td>\n",
       "    </tr>\n",
       "    <tr>\n",
       "      <th>1164</th>\n",
       "      <td>279171</td>\n",
       "      <td>913</td>\n",
       "      <td>279393</td>\n",
       "      <td>21088</td>\n",
       "    </tr>\n",
       "    <tr>\n",
       "      <th>1159</th>\n",
       "      <td>277819</td>\n",
       "      <td>1127</td>\n",
       "      <td>278612</td>\n",
       "      <td>15737</td>\n",
       "    </tr>\n",
       "    <tr>\n",
       "      <th>1147</th>\n",
       "      <td>237417</td>\n",
       "      <td>1839</td>\n",
       "      <td>238753</td>\n",
       "      <td>21760</td>\n",
       "    </tr>\n",
       "    <tr>\n",
       "      <th>1155</th>\n",
       "      <td>209810</td>\n",
       "      <td>5188</td>\n",
       "      <td>213028</td>\n",
       "      <td>23759</td>\n",
       "    </tr>\n",
       "    <tr>\n",
       "      <th>1170</th>\n",
       "      <td>199539</td>\n",
       "      <td>1806</td>\n",
       "      <td>200920</td>\n",
       "      <td>19456</td>\n",
       "    </tr>\n",
       "    <tr>\n",
       "      <th>1173</th>\n",
       "      <td>166231</td>\n",
       "      <td>1483</td>\n",
       "      <td>167383</td>\n",
       "      <td>10218</td>\n",
       "    </tr>\n",
       "    <tr>\n",
       "      <th>1172</th>\n",
       "      <td>131706</td>\n",
       "      <td>3038</td>\n",
       "      <td>133972</td>\n",
       "      <td>14483</td>\n",
       "    </tr>\n",
       "    <tr>\n",
       "      <th>1171</th>\n",
       "      <td>64128</td>\n",
       "      <td>199</td>\n",
       "      <td>64257</td>\n",
       "      <td>4274</td>\n",
       "    </tr>\n",
       "    <tr>\n",
       "      <th>1156</th>\n",
       "      <td>63728</td>\n",
       "      <td>345</td>\n",
       "      <td>63975</td>\n",
       "      <td>13083</td>\n",
       "    </tr>\n",
       "    <tr>\n",
       "      <th>1160</th>\n",
       "      <td>62576</td>\n",
       "      <td>0</td>\n",
       "      <td>62576</td>\n",
       "      <td>26</td>\n",
       "    </tr>\n",
       "  </tbody>\n",
       "</table>\n",
       "</div>"
      ],
      "text/plain": [
       "            Demanda_uni_equil  Dev_uni_proxima  Venta_uni_hoy   Count\n",
       "Agencia_ID                                                           \n",
       "1129                  3254799            17548        3269823   43185\n",
       "1142                  3012039            32004        3040135   43528\n",
       "1123                  3005332            45951        3037822  628521\n",
       "1114                  2902276           128012        3017499   41305\n",
       "1121                  2825251            24045        2843229  466461\n",
       "1126                  2789773            28969        2812699  495889\n",
       "1117                  2719317            44820        2750388  484264\n",
       "1116                  2630448            31405        2652403  415783\n",
       "1120                  2479288            22368        2495510  401507\n",
       "1122                  2405850            21852        2423151  396120\n",
       "1111                  2325763            21584        2341908  386909\n",
       "1130                  2296504            42015        2325260  402224\n",
       "1168                  2286822            27332        2311326   37479\n",
       "1137                  2222473            46266        2250988  398591\n",
       "1118                  2028168            18023        2041608  309564\n",
       "1138                  2010098            18404        2023350  305690\n",
       "1119                  1988546            34690        2013407  363217\n",
       "1124                  1915526            40446        1942670  333940\n",
       "1153                  1850740            22621        1867143  380710\n",
       "1127                  1775207            19903        1789426  343625\n",
       "1140                  1677444            26492        1695512  350497\n",
       "1112                  1670180            20273        1684877  304889\n",
       "1113                  1240981            10421        1248549  175255\n",
       "1150                  1126956             4008        1129709   96875\n",
       "1110                   793855            32883         796370   48004\n",
       "1152                   708257             5962         712501   59002\n",
       "1143                   647617             9248         648900   41555\n",
       "1139                   548314            17807         554280   37640\n",
       "1146                   498627             3498         501345   49699\n",
       "1165                   375650              448         375976   25363\n",
       "1167                   290604                0         290604    3769\n",
       "1164                   279171              913         279393   21088\n",
       "1159                   277819             1127         278612   15737\n",
       "1147                   237417             1839         238753   21760\n",
       "1155                   209810             5188         213028   23759\n",
       "1170                   199539             1806         200920   19456\n",
       "1173                   166231             1483         167383   10218\n",
       "1172                   131706             3038         133972   14483\n",
       "1171                    64128              199          64257    4274\n",
       "1156                    63728              345          63975   13083\n",
       "1160                    62576                0          62576      26"
      ]
     },
     "execution_count": 86,
     "metadata": {},
     "output_type": "execute_result"
    }
   ],
   "source": [
    "\n",
    "Agencia_gruped = full_candidate_data_clean.pivot_table(values=[\"Demanda_uni_equil\", \"Venta_uni_hoy\", \"Dev_uni_proxima\"],\n",
    "                                                     index='Agencia_ID', aggfunc={'Demanda_uni_equil': 'sum', 'Venta_uni_hoy': 'sum', 'Dev_uni_proxima': 'sum'})\n",
    "\n",
    "Agencia_gruped = Agencia_gruped.sort_values(by='Demanda_uni_equil', ascending=False)\n",
    "\n",
    "Agencia_gruped = Agencia_gruped.assign(Count=full_candidate_data_clean['Agencia_ID'].value_counts())\n",
    "\n",
    "Agencia_gruped"
   ]
  },
  {
   "cell_type": "markdown",
   "metadata": {},
   "source": [
    "Once I decided the **Agencia_ID 1123** is the one I will focus on. Let's create a dataset just for those registers."
   ]
  },
  {
   "cell_type": "code",
   "execution_count": 87,
   "metadata": {},
   "outputs": [
    {
     "data": {
      "text/plain": [
       "(628521, 11)"
      ]
     },
     "execution_count": 87,
     "metadata": {},
     "output_type": "execute_result"
    }
   ],
   "source": [
    "agencia_1123_data = full_candidate_data_clean[full_candidate_data_clean[\"Agencia_ID\"] == 1123]\n",
    "agencia_1123_data.shape"
   ]
  },
  {
   "cell_type": "code",
   "execution_count": 88,
   "metadata": {},
   "outputs": [
    {
     "data": {
      "text/html": [
       "<div>\n",
       "<style scoped>\n",
       "    .dataframe tbody tr th:only-of-type {\n",
       "        vertical-align: middle;\n",
       "    }\n",
       "\n",
       "    .dataframe tbody tr th {\n",
       "        vertical-align: top;\n",
       "    }\n",
       "\n",
       "    .dataframe thead th {\n",
       "        text-align: right;\n",
       "    }\n",
       "</style>\n",
       "<table border=\"1\" class=\"dataframe\">\n",
       "  <thead>\n",
       "    <tr style=\"text-align: right;\">\n",
       "      <th></th>\n",
       "      <th>Semana</th>\n",
       "      <th>Agencia_ID</th>\n",
       "      <th>Venta_uni_hoy</th>\n",
       "      <th>Venta_hoy</th>\n",
       "      <th>Dev_uni_proxima</th>\n",
       "      <th>Dev_proxima</th>\n",
       "      <th>Demanda_uni_equil</th>\n",
       "      <th>Town</th>\n",
       "      <th>State</th>\n",
       "      <th>NombreCliente</th>\n",
       "      <th>NombreProducto</th>\n",
       "    </tr>\n",
       "  </thead>\n",
       "  <tbody>\n",
       "    <tr>\n",
       "      <th>663350</th>\n",
       "      <td>3</td>\n",
       "      <td>1123</td>\n",
       "      <td>1</td>\n",
       "      <td>15.01</td>\n",
       "      <td>0</td>\n",
       "      <td>0.0</td>\n",
       "      <td>1</td>\n",
       "      <td>2094 CHALCO_BM</td>\n",
       "      <td>ESTADO DE MÉXICO</td>\n",
       "      <td>ROCIO</td>\n",
       "      <td>Pan Blanco Chico 360g BIM 1109</td>\n",
       "    </tr>\n",
       "    <tr>\n",
       "      <th>663351</th>\n",
       "      <td>3</td>\n",
       "      <td>1123</td>\n",
       "      <td>2</td>\n",
       "      <td>42.78</td>\n",
       "      <td>0</td>\n",
       "      <td>0.0</td>\n",
       "      <td>2</td>\n",
       "      <td>2094 CHALCO_BM</td>\n",
       "      <td>ESTADO DE MÉXICO</td>\n",
       "      <td>ROCIO</td>\n",
       "      <td>Pan Integral 675g BIM 1146</td>\n",
       "    </tr>\n",
       "    <tr>\n",
       "      <th>663352</th>\n",
       "      <td>3</td>\n",
       "      <td>1123</td>\n",
       "      <td>1</td>\n",
       "      <td>19.94</td>\n",
       "      <td>0</td>\n",
       "      <td>0.0</td>\n",
       "      <td>1</td>\n",
       "      <td>2094 CHALCO_BM</td>\n",
       "      <td>ESTADO DE MÉXICO</td>\n",
       "      <td>ROCIO</td>\n",
       "      <td>Pan Blanco 640g BIM 2233</td>\n",
       "    </tr>\n",
       "    <tr>\n",
       "      <th>663353</th>\n",
       "      <td>3</td>\n",
       "      <td>1123</td>\n",
       "      <td>3</td>\n",
       "      <td>49.05</td>\n",
       "      <td>0</td>\n",
       "      <td>0.0</td>\n",
       "      <td>3</td>\n",
       "      <td>2094 CHALCO_BM</td>\n",
       "      <td>ESTADO DE MÉXICO</td>\n",
       "      <td>ROCIO</td>\n",
       "      <td>Pan Integral 370g BIM 3631</td>\n",
       "    </tr>\n",
       "    <tr>\n",
       "      <th>663354</th>\n",
       "      <td>3</td>\n",
       "      <td>1123</td>\n",
       "      <td>2</td>\n",
       "      <td>28.52</td>\n",
       "      <td>0</td>\n",
       "      <td>0.0</td>\n",
       "      <td>2</td>\n",
       "      <td>2094 CHALCO_BM</td>\n",
       "      <td>ESTADO DE MÉXICO</td>\n",
       "      <td>ROCIO</td>\n",
       "      <td>Totopo Chilaquiles 280g MR 48077</td>\n",
       "    </tr>\n",
       "  </tbody>\n",
       "</table>\n",
       "</div>"
      ],
      "text/plain": [
       "        Semana  Agencia_ID  Venta_uni_hoy  Venta_hoy  Dev_uni_proxima  \\\n",
       "663350       3        1123              1      15.01                0   \n",
       "663351       3        1123              2      42.78                0   \n",
       "663352       3        1123              1      19.94                0   \n",
       "663353       3        1123              3      49.05                0   \n",
       "663354       3        1123              2      28.52                0   \n",
       "\n",
       "        Dev_proxima  Demanda_uni_equil            Town             State  \\\n",
       "663350          0.0                  1  2094 CHALCO_BM  ESTADO DE MÉXICO   \n",
       "663351          0.0                  2  2094 CHALCO_BM  ESTADO DE MÉXICO   \n",
       "663352          0.0                  1  2094 CHALCO_BM  ESTADO DE MÉXICO   \n",
       "663353          0.0                  3  2094 CHALCO_BM  ESTADO DE MÉXICO   \n",
       "663354          0.0                  2  2094 CHALCO_BM  ESTADO DE MÉXICO   \n",
       "\n",
       "       NombreCliente                    NombreProducto  \n",
       "663350         ROCIO    Pan Blanco Chico 360g BIM 1109  \n",
       "663351         ROCIO        Pan Integral 675g BIM 1146  \n",
       "663352         ROCIO          Pan Blanco 640g BIM 2233  \n",
       "663353         ROCIO        Pan Integral 370g BIM 3631  \n",
       "663354         ROCIO  Totopo Chilaquiles 280g MR 48077  "
      ]
     },
     "execution_count": 88,
     "metadata": {},
     "output_type": "execute_result"
    }
   ],
   "source": [
    "agencia_1123_data.head()"
   ]
  },
  {
   "cell_type": "markdown",
   "metadata": {},
   "source": [
    "Total Sales from Agencia 1123:"
   ]
  },
  {
   "cell_type": "code",
   "execution_count": 90,
   "metadata": {},
   "outputs": [
    {
     "data": {
      "image/png": "[encoded data removed]",
      "text/plain": [
       "<Figure size 1000x600 with 1 Axes>"
      ]
     },
     "metadata": {},
     "output_type": "display_data"
    }
   ],
   "source": [
    "\n",
    "\n",
    "# Agrupar por semana y sumar las ventas en cada semana\n",
    "df_agrupado = agencia_1123_data.groupby('Semana')['Venta_uni_hoy'].sum().reset_index()\n",
    "\n",
    "# Configurar el estilo de Seaborn\n",
    "sns.set(style=\"whitegrid\")\n",
    "\n",
    "# Graficar la serie de tiempo con Seaborn\n",
    "plt.figure(figsize=(10, 6))\n",
    "sns.lineplot(x='Semana', y='Venta_uni_hoy', data=df_agrupado, marker='o', color='b')\n",
    "\n",
    "# Agregar etiquetas con el valor de cada punto\n",
    "for index, row in df_agrupado.iterrows():\n",
    "    plt.text(row['Semana'], row['Venta_uni_hoy'], f'{row[\"Venta_uni_hoy\"]:,.0f}', ha='center', va='bottom', fontsize=8)\n",
    "\n",
    "plt.title('Ventas por Semana')\n",
    "plt.xlabel('Semana')\n",
    "plt.ylabel('Ventas')\n",
    "plt.show()\n"
   ]
  },
  {
   "cell_type": "markdown",
   "metadata": {},
   "source": [
    "Top product form Agencia 1123:"
   ]
  },
  {
   "cell_type": "code",
   "execution_count": 91,
   "metadata": {},
   "outputs": [
    {
     "data": {
      "text/plain": [
       "Index(['Semana', 'Agencia_ID', 'Venta_uni_hoy', 'Venta_hoy', 'Dev_uni_proxima',\n",
       "       'Dev_proxima', 'Demanda_uni_equil', 'Town', 'State', 'NombreCliente',\n",
       "       'NombreProducto'],\n",
       "      dtype='object')"
      ]
     },
     "execution_count": 91,
     "metadata": {},
     "output_type": "execute_result"
    }
   ],
   "source": [
    "agencia_1123_data.columns"
   ]
  },
  {
   "cell_type": "code",
   "execution_count": 93,
   "metadata": {},
   "outputs": [
    {
     "data": {
      "text/plain": [
       "1123    628521\n",
       "Name: Agencia_ID, dtype: int64"
      ]
     },
     "execution_count": 93,
     "metadata": {},
     "output_type": "execute_result"
    }
   ],
   "source": [
    "agencia_1123_data.Agencia_ID.value_counts()"
   ]
  },
  {
   "cell_type": "code",
   "execution_count": 95,
   "metadata": {},
   "outputs": [
    {
     "data": {
      "text/html": [
       "<div>\n",
       "<style scoped>\n",
       "    .dataframe tbody tr th:only-of-type {\n",
       "        vertical-align: middle;\n",
       "    }\n",
       "\n",
       "    .dataframe tbody tr th {\n",
       "        vertical-align: top;\n",
       "    }\n",
       "\n",
       "    .dataframe thead th {\n",
       "        text-align: right;\n",
       "    }\n",
       "</style>\n",
       "<table border=\"1\" class=\"dataframe\">\n",
       "  <thead>\n",
       "    <tr style=\"text-align: right;\">\n",
       "      <th></th>\n",
       "      <th>Venta_uni_hoy</th>\n",
       "    </tr>\n",
       "    <tr>\n",
       "      <th>NombreProducto</th>\n",
       "      <th></th>\n",
       "    </tr>\n",
       "  </thead>\n",
       "  <tbody>\n",
       "    <tr>\n",
       "      <th>Nito 1p 62g BIM 1278</th>\n",
       "      <td>341784</td>\n",
       "    </tr>\n",
       "    <tr>\n",
       "      <th>Rebanada 2p 55g BIM 1284</th>\n",
       "      <td>264739</td>\n",
       "    </tr>\n",
       "    <tr>\n",
       "      <th>Polvoroncitos Panera 40p 16 25g TR 45143</th>\n",
       "      <td>148778</td>\n",
       "    </tr>\n",
       "    <tr>\n",
       "      <th>Donas Azucar 4p 105g BIM 1250</th>\n",
       "      <td>127597</td>\n",
       "    </tr>\n",
       "    <tr>\n",
       "      <th>Gansito 1p 50g MTB MLA 43285</th>\n",
       "      <td>124836</td>\n",
       "    </tr>\n",
       "    <tr>\n",
       "      <th>...</th>\n",
       "      <td>...</td>\n",
       "    </tr>\n",
       "    <tr>\n",
       "      <th>Duo Bran Fresa Pina 96g SP BIM 35724</th>\n",
       "      <td>0</td>\n",
       "    </tr>\n",
       "    <tr>\n",
       "      <th>Suavicremas Chocolate 158g MTA MLA 34554</th>\n",
       "      <td>0</td>\n",
       "    </tr>\n",
       "    <tr>\n",
       "      <th>Galleta Almenuez 57g Tira TR 36001</th>\n",
       "      <td>0</td>\n",
       "    </tr>\n",
       "    <tr>\n",
       "      <th>Suavicremas Chocolate 158g SP MTA MLA 31779</th>\n",
       "      <td>0</td>\n",
       "    </tr>\n",
       "    <tr>\n",
       "      <th>Plativolos Tubo 18p 144g SP MTB MLA 31485</th>\n",
       "      <td>0</td>\n",
       "    </tr>\n",
       "  </tbody>\n",
       "</table>\n",
       "<p>204 rows × 1 columns</p>\n",
       "</div>"
      ],
      "text/plain": [
       "                                             Venta_uni_hoy\n",
       "NombreProducto                                            \n",
       "Nito 1p 62g BIM 1278                                341784\n",
       "Rebanada 2p 55g BIM 1284                            264739\n",
       "Polvoroncitos Panera 40p 16 25g TR 45143            148778\n",
       "Donas Azucar 4p 105g BIM 1250                       127597\n",
       "Gansito 1p 50g MTB MLA 43285                        124836\n",
       "...                                                    ...\n",
       "Duo Bran Fresa Pina 96g SP BIM 35724                     0\n",
       "Suavicremas Chocolate 158g MTA MLA 34554                 0\n",
       "Galleta Almenuez 57g Tira TR 36001                       0\n",
       "Suavicremas Chocolate 158g SP MTA MLA 31779              0\n",
       "Plativolos Tubo 18p 144g SP MTB MLA 31485                0\n",
       "\n",
       "[204 rows x 1 columns]"
      ]
     },
     "execution_count": 95,
     "metadata": {},
     "output_type": "execute_result"
    }
   ],
   "source": [
    "top_products_agencia_1123 = agencia_1123_data.pivot_table(values=[\"Venta_uni_hoy\"],\n",
    "                                                     index='NombreProducto', aggfunc= 'sum')\n",
    "\n",
    "top_products_agencia_1123 = top_products_agencia_1123.sort_values(by='Venta_uni_hoy', ascending=False)\n",
    "top_products_agencia_1123\n"
   ]
  },
  {
   "cell_type": "code",
   "execution_count": 98,
   "metadata": {},
   "outputs": [
    {
     "data": {
      "text/html": [
       "<div>\n",
       "<style scoped>\n",
       "    .dataframe tbody tr th:only-of-type {\n",
       "        vertical-align: middle;\n",
       "    }\n",
       "\n",
       "    .dataframe tbody tr th {\n",
       "        vertical-align: top;\n",
       "    }\n",
       "\n",
       "    .dataframe thead th {\n",
       "        text-align: right;\n",
       "    }\n",
       "</style>\n",
       "<table border=\"1\" class=\"dataframe\">\n",
       "  <thead>\n",
       "    <tr style=\"text-align: right;\">\n",
       "      <th></th>\n",
       "      <th>Venta_uni_hoy</th>\n",
       "    </tr>\n",
       "    <tr>\n",
       "      <th>NombreCliente</th>\n",
       "      <th></th>\n",
       "    </tr>\n",
       "  </thead>\n",
       "  <tbody>\n",
       "    <tr>\n",
       "      <th>NO IDENTIFICADO</th>\n",
       "      <td>483743</td>\n",
       "    </tr>\n",
       "    <tr>\n",
       "      <th>LUPITA</th>\n",
       "      <td>34546</td>\n",
       "    </tr>\n",
       "    <tr>\n",
       "      <th>MARY 1</th>\n",
       "      <td>33486</td>\n",
       "    </tr>\n",
       "    <tr>\n",
       "      <th>MARY</th>\n",
       "      <td>20805</td>\n",
       "    </tr>\n",
       "    <tr>\n",
       "      <th>LA VENTANITA</th>\n",
       "      <td>17797</td>\n",
       "    </tr>\n",
       "    <tr>\n",
       "      <th>...</th>\n",
       "      <td>...</td>\n",
       "    </tr>\n",
       "    <tr>\n",
       "      <th>SACROMONTE</th>\n",
       "      <td>2</td>\n",
       "    </tr>\n",
       "    <tr>\n",
       "      <th>ORIENTE</th>\n",
       "      <td>2</td>\n",
       "    </tr>\n",
       "    <tr>\n",
       "      <th>ARLETE</th>\n",
       "      <td>2</td>\n",
       "    </tr>\n",
       "    <tr>\n",
       "      <th>CONSUMO ELIZABETH</th>\n",
       "      <td>1</td>\n",
       "    </tr>\n",
       "    <tr>\n",
       "      <th>CENTRO DE ABASTO</th>\n",
       "      <td>0</td>\n",
       "    </tr>\n",
       "  </tbody>\n",
       "</table>\n",
       "<p>3309 rows × 1 columns</p>\n",
       "</div>"
      ],
      "text/plain": [
       "                   Venta_uni_hoy\n",
       "NombreCliente                   \n",
       "NO IDENTIFICADO           483743\n",
       "LUPITA                     34546\n",
       "MARY 1                     33486\n",
       "MARY                       20805\n",
       "LA VENTANITA               17797\n",
       "...                          ...\n",
       "SACROMONTE                     2\n",
       "ORIENTE                        2\n",
       "ARLETE                         2\n",
       "CONSUMO ELIZABETH              1\n",
       "CENTRO DE ABASTO               0\n",
       "\n",
       "[3309 rows x 1 columns]"
      ]
     },
     "execution_count": 98,
     "metadata": {},
     "output_type": "execute_result"
    }
   ],
   "source": [
    "top_cliente_agencia_1123 = agencia_1123_data.pivot_table(values=[\"Venta_uni_hoy\"],\n",
    "                                                     index='NombreCliente', aggfunc= 'sum')\n",
    "\n",
    "top_cliente_agencia_1123 = top_cliente_agencia_1123.sort_values(by='Venta_uni_hoy', ascending=False)\n",
    "top_cliente_agencia_1123"
   ]
  },
  {
   "cell_type": "code",
   "execution_count": 108,
   "metadata": {},
   "outputs": [],
   "source": [
    "\n",
    "\n",
    "#Save the top 3 products from San Antonio And then create 3 different datasets to predict\n",
    "top_3_products = top_products_agencia_1123.index[:3]\n",
    "\n",
    "datasets_list = [agencia_1123_data[agencia_1123_data[\"NombreProducto\"] == top_3_products[element]] for element in range(len(top_3_products))]"
   ]
  },
  {
   "cell_type": "markdown",
   "metadata": {},
   "source": [
    "# TASK: Plot specific producto-cliente-agencia"
   ]
  },
  {
   "cell_type": "code",
   "execution_count": 109,
   "metadata": {},
   "outputs": [
    {
     "data": {
      "image/png": "[encoded data removed]",
      "text/plain": [
       "<Figure size 1000x600 with 1 Axes>"
      ]
     },
     "metadata": {},
     "output_type": "display_data"
    }
   ],
   "source": [
    "#TASK\n",
    "\n",
    "#Producto: Nito 1p 62g BIM 1278\n",
    "#Agencia: 1123\n",
    "#Cliente: NO IDENTIFICADO\n",
    "\n",
    "task_data = agencia_1123_data[(agencia_1123_data[\"NombreProducto\"] == 'Nito 1p 62g BIM 1278') & \n",
    "                              (agencia_1123_data[\"NombreCliente\"] == 'NO IDENTIFICADO')]\n",
    "\n",
    "\n",
    "\n",
    "# Agrupar por semana y sumar las ventas en cada semana\n",
    "df_agrupado = task_data.groupby('Semana')['Venta_uni_hoy'].sum().reset_index()\n",
    "\n",
    "# Configurar el estilo de Seaborn\n",
    "sns.set(style=\"whitegrid\")\n",
    "\n",
    "# Graficar la serie de tiempo con Seaborn\n",
    "plt.figure(figsize=(10, 6))\n",
    "sns.lineplot(x='Semana', y='Venta_uni_hoy', data=df_agrupado, marker='o', color='b')\n",
    "\n",
    "# Agregar etiquetas con el valor de cada punto\n",
    "for index, row in df_agrupado.iterrows():\n",
    "    plt.text(row['Semana'], row['Venta_uni_hoy'], f'{row[\"Venta_uni_hoy\"]:,.0f}', ha='center', va='bottom', fontsize=8)\n",
    "\n",
    "plt.title('Ventas por Semana')\n",
    "plt.xlabel('Semana')\n",
    "plt.ylabel('Ventas')\n",
    "plt.show()\n"
   ]
  },
  {
   "cell_type": "markdown",
   "metadata": {},
   "source": [
    "# TASK: Predict the next timme point for 3 top products:"
   ]
  },
  {
   "cell_type": "markdown",
   "metadata": {},
   "source": [
    "## Product 1."
   ]
  },
  {
   "cell_type": "code",
   "execution_count": 110,
   "metadata": {},
   "outputs": [
    {
     "data": {
      "text/html": [
       "<div>\n",
       "<style scoped>\n",
       "    .dataframe tbody tr th:only-of-type {\n",
       "        vertical-align: middle;\n",
       "    }\n",
       "\n",
       "    .dataframe tbody tr th {\n",
       "        vertical-align: top;\n",
       "    }\n",
       "\n",
       "    .dataframe thead th {\n",
       "        text-align: right;\n",
       "    }\n",
       "</style>\n",
       "<table border=\"1\" class=\"dataframe\">\n",
       "  <thead>\n",
       "    <tr style=\"text-align: right;\">\n",
       "      <th></th>\n",
       "      <th>Semana</th>\n",
       "      <th>Agencia_ID</th>\n",
       "      <th>Venta_uni_hoy</th>\n",
       "      <th>Venta_hoy</th>\n",
       "      <th>Dev_uni_proxima</th>\n",
       "      <th>Dev_proxima</th>\n",
       "      <th>Demanda_uni_equil</th>\n",
       "      <th>Town</th>\n",
       "      <th>State</th>\n",
       "      <th>NombreCliente</th>\n",
       "      <th>NombreProducto</th>\n",
       "    </tr>\n",
       "  </thead>\n",
       "  <tbody>\n",
       "    <tr>\n",
       "      <th>678286</th>\n",
       "      <td>3</td>\n",
       "      <td>1123</td>\n",
       "      <td>10</td>\n",
       "      <td>45.0</td>\n",
       "      <td>0</td>\n",
       "      <td>0.0</td>\n",
       "      <td>10</td>\n",
       "      <td>2094 CHALCO_BM</td>\n",
       "      <td>ESTADO DE MÉXICO</td>\n",
       "      <td>EXPRESS</td>\n",
       "      <td>Nito 1p 62g BIM 1278</td>\n",
       "    </tr>\n",
       "    <tr>\n",
       "      <th>678305</th>\n",
       "      <td>3</td>\n",
       "      <td>1123</td>\n",
       "      <td>4</td>\n",
       "      <td>18.0</td>\n",
       "      <td>0</td>\n",
       "      <td>0.0</td>\n",
       "      <td>4</td>\n",
       "      <td>2094 CHALCO_BM</td>\n",
       "      <td>ESTADO DE MÉXICO</td>\n",
       "      <td>JAZMIN</td>\n",
       "      <td>Nito 1p 62g BIM 1278</td>\n",
       "    </tr>\n",
       "    <tr>\n",
       "      <th>678328</th>\n",
       "      <td>3</td>\n",
       "      <td>1123</td>\n",
       "      <td>15</td>\n",
       "      <td>67.5</td>\n",
       "      <td>0</td>\n",
       "      <td>0.0</td>\n",
       "      <td>15</td>\n",
       "      <td>2094 CHALCO_BM</td>\n",
       "      <td>ESTADO DE MÉXICO</td>\n",
       "      <td>EMMANUEL</td>\n",
       "      <td>Nito 1p 62g BIM 1278</td>\n",
       "    </tr>\n",
       "    <tr>\n",
       "      <th>678349</th>\n",
       "      <td>3</td>\n",
       "      <td>1123</td>\n",
       "      <td>39</td>\n",
       "      <td>175.5</td>\n",
       "      <td>9</td>\n",
       "      <td>40.5</td>\n",
       "      <td>30</td>\n",
       "      <td>2094 CHALCO_BM</td>\n",
       "      <td>ESTADO DE MÉXICO</td>\n",
       "      <td>LUPITA</td>\n",
       "      <td>Nito 1p 62g BIM 1278</td>\n",
       "    </tr>\n",
       "    <tr>\n",
       "      <th>678376</th>\n",
       "      <td>3</td>\n",
       "      <td>1123</td>\n",
       "      <td>40</td>\n",
       "      <td>180.0</td>\n",
       "      <td>0</td>\n",
       "      <td>0.0</td>\n",
       "      <td>40</td>\n",
       "      <td>2094 CHALCO_BM</td>\n",
       "      <td>ESTADO DE MÉXICO</td>\n",
       "      <td>EL CARDENAL</td>\n",
       "      <td>Nito 1p 62g BIM 1278</td>\n",
       "    </tr>\n",
       "    <tr>\n",
       "      <th>...</th>\n",
       "      <td>...</td>\n",
       "      <td>...</td>\n",
       "      <td>...</td>\n",
       "      <td>...</td>\n",
       "      <td>...</td>\n",
       "      <td>...</td>\n",
       "      <td>...</td>\n",
       "      <td>...</td>\n",
       "      <td>...</td>\n",
       "      <td>...</td>\n",
       "      <td>...</td>\n",
       "    </tr>\n",
       "    <tr>\n",
       "      <th>7359667</th>\n",
       "      <td>8</td>\n",
       "      <td>1123</td>\n",
       "      <td>18</td>\n",
       "      <td>81.0</td>\n",
       "      <td>0</td>\n",
       "      <td>0.0</td>\n",
       "      <td>18</td>\n",
       "      <td>2094 CHALCO_BM</td>\n",
       "      <td>ESTADO DE MÉXICO</td>\n",
       "      <td>LA ESCONDIDA</td>\n",
       "      <td>Nito 1p 62g BIM 1278</td>\n",
       "    </tr>\n",
       "    <tr>\n",
       "      <th>7359674</th>\n",
       "      <td>8</td>\n",
       "      <td>1123</td>\n",
       "      <td>26</td>\n",
       "      <td>117.0</td>\n",
       "      <td>0</td>\n",
       "      <td>0.0</td>\n",
       "      <td>26</td>\n",
       "      <td>2094 CHALCO_BM</td>\n",
       "      <td>ESTADO DE MÉXICO</td>\n",
       "      <td>RENE</td>\n",
       "      <td>Nito 1p 62g BIM 1278</td>\n",
       "    </tr>\n",
       "    <tr>\n",
       "      <th>7359679</th>\n",
       "      <td>8</td>\n",
       "      <td>1123</td>\n",
       "      <td>11</td>\n",
       "      <td>49.5</td>\n",
       "      <td>0</td>\n",
       "      <td>0.0</td>\n",
       "      <td>11</td>\n",
       "      <td>2094 CHALCO_BM</td>\n",
       "      <td>ESTADO DE MÉXICO</td>\n",
       "      <td>ARELI</td>\n",
       "      <td>Nito 1p 62g BIM 1278</td>\n",
       "    </tr>\n",
       "    <tr>\n",
       "      <th>7359688</th>\n",
       "      <td>8</td>\n",
       "      <td>1123</td>\n",
       "      <td>19</td>\n",
       "      <td>85.5</td>\n",
       "      <td>0</td>\n",
       "      <td>0.0</td>\n",
       "      <td>19</td>\n",
       "      <td>2094 CHALCO_BM</td>\n",
       "      <td>ESTADO DE MÉXICO</td>\n",
       "      <td>NO IDENTIFICADO</td>\n",
       "      <td>Nito 1p 62g BIM 1278</td>\n",
       "    </tr>\n",
       "    <tr>\n",
       "      <th>7359700</th>\n",
       "      <td>8</td>\n",
       "      <td>1123</td>\n",
       "      <td>13</td>\n",
       "      <td>58.5</td>\n",
       "      <td>12</td>\n",
       "      <td>54.0</td>\n",
       "      <td>1</td>\n",
       "      <td>2094 CHALCO_BM</td>\n",
       "      <td>ESTADO DE MÉXICO</td>\n",
       "      <td>NO IDENTIFICADO</td>\n",
       "      <td>Nito 1p 62g BIM 1278</td>\n",
       "    </tr>\n",
       "  </tbody>\n",
       "</table>\n",
       "<p>26756 rows × 11 columns</p>\n",
       "</div>"
      ],
      "text/plain": [
       "         Semana  Agencia_ID  Venta_uni_hoy  Venta_hoy  Dev_uni_proxima  \\\n",
       "678286        3        1123             10       45.0                0   \n",
       "678305        3        1123              4       18.0                0   \n",
       "678328        3        1123             15       67.5                0   \n",
       "678349        3        1123             39      175.5                9   \n",
       "678376        3        1123             40      180.0                0   \n",
       "...         ...         ...            ...        ...              ...   \n",
       "7359667       8        1123             18       81.0                0   \n",
       "7359674       8        1123             26      117.0                0   \n",
       "7359679       8        1123             11       49.5                0   \n",
       "7359688       8        1123             19       85.5                0   \n",
       "7359700       8        1123             13       58.5               12   \n",
       "\n",
       "         Dev_proxima  Demanda_uni_equil            Town             State  \\\n",
       "678286           0.0                 10  2094 CHALCO_BM  ESTADO DE MÉXICO   \n",
       "678305           0.0                  4  2094 CHALCO_BM  ESTADO DE MÉXICO   \n",
       "678328           0.0                 15  2094 CHALCO_BM  ESTADO DE MÉXICO   \n",
       "678349          40.5                 30  2094 CHALCO_BM  ESTADO DE MÉXICO   \n",
       "678376           0.0                 40  2094 CHALCO_BM  ESTADO DE MÉXICO   \n",
       "...              ...                ...             ...               ...   \n",
       "7359667          0.0                 18  2094 CHALCO_BM  ESTADO DE MÉXICO   \n",
       "7359674          0.0                 26  2094 CHALCO_BM  ESTADO DE MÉXICO   \n",
       "7359679          0.0                 11  2094 CHALCO_BM  ESTADO DE MÉXICO   \n",
       "7359688          0.0                 19  2094 CHALCO_BM  ESTADO DE MÉXICO   \n",
       "7359700         54.0                  1  2094 CHALCO_BM  ESTADO DE MÉXICO   \n",
       "\n",
       "           NombreCliente        NombreProducto  \n",
       "678286           EXPRESS  Nito 1p 62g BIM 1278  \n",
       "678305            JAZMIN  Nito 1p 62g BIM 1278  \n",
       "678328          EMMANUEL  Nito 1p 62g BIM 1278  \n",
       "678349            LUPITA  Nito 1p 62g BIM 1278  \n",
       "678376       EL CARDENAL  Nito 1p 62g BIM 1278  \n",
       "...                  ...                   ...  \n",
       "7359667     LA ESCONDIDA  Nito 1p 62g BIM 1278  \n",
       "7359674             RENE  Nito 1p 62g BIM 1278  \n",
       "7359679            ARELI  Nito 1p 62g BIM 1278  \n",
       "7359688  NO IDENTIFICADO  Nito 1p 62g BIM 1278  \n",
       "7359700  NO IDENTIFICADO  Nito 1p 62g BIM 1278  \n",
       "\n",
       "[26756 rows x 11 columns]"
      ]
     },
     "execution_count": 110,
     "metadata": {},
     "output_type": "execute_result"
    }
   ],
   "source": [
    "datasets_list[0]"
   ]
  },
  {
   "cell_type": "markdown",
   "metadata": {},
   "source": [
    "Some columnas are not longer need it due to low variance, in other words, all the values in the column are exactly the same and this is any informative and don't add any value to the model, let's erase them."
   ]
  },
  {
   "cell_type": "code",
   "execution_count": 111,
   "metadata": {},
   "outputs": [
    {
     "name": "stdout",
     "output_type": "stream",
     "text": [
      "1123    26756\n",
      "Name: Agencia_ID, dtype: int64\n",
      "2094 CHALCO_BM    26756\n",
      "Name: Town, dtype: int64\n",
      "ESTADO DE MÉXICO    26756\n",
      "Name: State, dtype: int64\n",
      "Nito 1p 62g BIM 1278    26756\n",
      "Name: NombreProducto, dtype: int64\n"
     ]
    }
   ],
   "source": [
    "print(datasets_list[0].Agencia_ID.value_counts())\n",
    "print(datasets_list[0].Town.value_counts())\n",
    "print(datasets_list[0].State.value_counts())\n",
    "print(datasets_list[0].NombreProducto.value_counts())\n"
   ]
  },
  {
   "cell_type": "code",
   "execution_count": 132,
   "metadata": {},
   "outputs": [],
   "source": [
    "data_product_1 = datasets_list[0].copy()\n",
    "columns_to_drop = [\"Agencia_ID\", \"Town\", \"State\", \"NombreProducto\"]\n",
    "data_product_1.drop(columns_to_drop, axis = 1, inplace = True)"
   ]
  },
  {
   "cell_type": "code",
   "execution_count": 133,
   "metadata": {},
   "outputs": [
    {
     "data": {
      "text/html": [
       "<div>\n",
       "<style scoped>\n",
       "    .dataframe tbody tr th:only-of-type {\n",
       "        vertical-align: middle;\n",
       "    }\n",
       "\n",
       "    .dataframe tbody tr th {\n",
       "        vertical-align: top;\n",
       "    }\n",
       "\n",
       "    .dataframe thead th {\n",
       "        text-align: right;\n",
       "    }\n",
       "</style>\n",
       "<table border=\"1\" class=\"dataframe\">\n",
       "  <thead>\n",
       "    <tr style=\"text-align: right;\">\n",
       "      <th></th>\n",
       "      <th>Semana</th>\n",
       "      <th>Venta_uni_hoy</th>\n",
       "      <th>Venta_hoy</th>\n",
       "      <th>Dev_uni_proxima</th>\n",
       "      <th>Dev_proxima</th>\n",
       "      <th>Demanda_uni_equil</th>\n",
       "      <th>NombreCliente</th>\n",
       "    </tr>\n",
       "  </thead>\n",
       "  <tbody>\n",
       "    <tr>\n",
       "      <th>678286</th>\n",
       "      <td>3</td>\n",
       "      <td>10</td>\n",
       "      <td>45.0</td>\n",
       "      <td>0</td>\n",
       "      <td>0.0</td>\n",
       "      <td>10</td>\n",
       "      <td>EXPRESS</td>\n",
       "    </tr>\n",
       "    <tr>\n",
       "      <th>678305</th>\n",
       "      <td>3</td>\n",
       "      <td>4</td>\n",
       "      <td>18.0</td>\n",
       "      <td>0</td>\n",
       "      <td>0.0</td>\n",
       "      <td>4</td>\n",
       "      <td>JAZMIN</td>\n",
       "    </tr>\n",
       "    <tr>\n",
       "      <th>678328</th>\n",
       "      <td>3</td>\n",
       "      <td>15</td>\n",
       "      <td>67.5</td>\n",
       "      <td>0</td>\n",
       "      <td>0.0</td>\n",
       "      <td>15</td>\n",
       "      <td>EMMANUEL</td>\n",
       "    </tr>\n",
       "    <tr>\n",
       "      <th>678349</th>\n",
       "      <td>3</td>\n",
       "      <td>39</td>\n",
       "      <td>175.5</td>\n",
       "      <td>9</td>\n",
       "      <td>40.5</td>\n",
       "      <td>30</td>\n",
       "      <td>LUPITA</td>\n",
       "    </tr>\n",
       "    <tr>\n",
       "      <th>678376</th>\n",
       "      <td>3</td>\n",
       "      <td>40</td>\n",
       "      <td>180.0</td>\n",
       "      <td>0</td>\n",
       "      <td>0.0</td>\n",
       "      <td>40</td>\n",
       "      <td>EL CARDENAL</td>\n",
       "    </tr>\n",
       "    <tr>\n",
       "      <th>...</th>\n",
       "      <td>...</td>\n",
       "      <td>...</td>\n",
       "      <td>...</td>\n",
       "      <td>...</td>\n",
       "      <td>...</td>\n",
       "      <td>...</td>\n",
       "      <td>...</td>\n",
       "    </tr>\n",
       "    <tr>\n",
       "      <th>7359667</th>\n",
       "      <td>8</td>\n",
       "      <td>18</td>\n",
       "      <td>81.0</td>\n",
       "      <td>0</td>\n",
       "      <td>0.0</td>\n",
       "      <td>18</td>\n",
       "      <td>LA ESCONDIDA</td>\n",
       "    </tr>\n",
       "    <tr>\n",
       "      <th>7359674</th>\n",
       "      <td>8</td>\n",
       "      <td>26</td>\n",
       "      <td>117.0</td>\n",
       "      <td>0</td>\n",
       "      <td>0.0</td>\n",
       "      <td>26</td>\n",
       "      <td>RENE</td>\n",
       "    </tr>\n",
       "    <tr>\n",
       "      <th>7359679</th>\n",
       "      <td>8</td>\n",
       "      <td>11</td>\n",
       "      <td>49.5</td>\n",
       "      <td>0</td>\n",
       "      <td>0.0</td>\n",
       "      <td>11</td>\n",
       "      <td>ARELI</td>\n",
       "    </tr>\n",
       "    <tr>\n",
       "      <th>7359688</th>\n",
       "      <td>8</td>\n",
       "      <td>19</td>\n",
       "      <td>85.5</td>\n",
       "      <td>0</td>\n",
       "      <td>0.0</td>\n",
       "      <td>19</td>\n",
       "      <td>NO IDENTIFICADO</td>\n",
       "    </tr>\n",
       "    <tr>\n",
       "      <th>7359700</th>\n",
       "      <td>8</td>\n",
       "      <td>13</td>\n",
       "      <td>58.5</td>\n",
       "      <td>12</td>\n",
       "      <td>54.0</td>\n",
       "      <td>1</td>\n",
       "      <td>NO IDENTIFICADO</td>\n",
       "    </tr>\n",
       "  </tbody>\n",
       "</table>\n",
       "<p>26756 rows × 7 columns</p>\n",
       "</div>"
      ],
      "text/plain": [
       "         Semana  Venta_uni_hoy  Venta_hoy  Dev_uni_proxima  Dev_proxima  \\\n",
       "678286        3             10       45.0                0          0.0   \n",
       "678305        3              4       18.0                0          0.0   \n",
       "678328        3             15       67.5                0          0.0   \n",
       "678349        3             39      175.5                9         40.5   \n",
       "678376        3             40      180.0                0          0.0   \n",
       "...         ...            ...        ...              ...          ...   \n",
       "7359667       8             18       81.0                0          0.0   \n",
       "7359674       8             26      117.0                0          0.0   \n",
       "7359679       8             11       49.5                0          0.0   \n",
       "7359688       8             19       85.5                0          0.0   \n",
       "7359700       8             13       58.5               12         54.0   \n",
       "\n",
       "         Demanda_uni_equil    NombreCliente  \n",
       "678286                  10          EXPRESS  \n",
       "678305                   4           JAZMIN  \n",
       "678328                  15         EMMANUEL  \n",
       "678349                  30           LUPITA  \n",
       "678376                  40      EL CARDENAL  \n",
       "...                    ...              ...  \n",
       "7359667                 18     LA ESCONDIDA  \n",
       "7359674                 26             RENE  \n",
       "7359679                 11            ARELI  \n",
       "7359688                 19  NO IDENTIFICADO  \n",
       "7359700                  1  NO IDENTIFICADO  \n",
       "\n",
       "[26756 rows x 7 columns]"
      ]
     },
     "execution_count": 133,
     "metadata": {},
     "output_type": "execute_result"
    }
   ],
   "source": [
    "data_product_1"
   ]
  },
  {
   "cell_type": "code",
   "execution_count": 134,
   "metadata": {},
   "outputs": [
    {
     "name": "stdout",
     "output_type": "stream",
     "text": [
      "Mean Squared Error: 0.06433610712301335\n"
     ]
    },
    {
     "data": {
      "image/png": "[encoded data removed]",
      "text/plain": [
       "<Figure size 1000x600 with 1 Axes>"
      ]
     },
     "metadata": {},
     "output_type": "display_data"
    }
   ],
   "source": [
    "import pandas as pd\n",
    "from sklearn.model_selection import train_test_split\n",
    "from sklearn.linear_model import LinearRegression\n",
    "from sklearn.metrics import mean_squared_error\n",
    "import matplotlib.pyplot as plt\n",
    "\n",
    "# Assuming 'Semana' is the week number\n",
    "# Set 'Semana' as the index\n",
    "data_product_1.set_index('Semana', inplace=True)\n",
    "\n",
    "\n",
    "# Assuming you want to use 'Venta_uni_hoy', 'Venta_hoy', 'Dev_uni_proxima', 'Dev_proxima' as features\n",
    "features = ['Venta_uni_hoy', 'Venta_hoy', 'Dev_uni_proxima', 'Dev_proxima']\n",
    "X = data_product_1[features]\n",
    "y = data_product_1['Demanda_uni_equil']\n",
    "\n",
    "# Split the data into training and testing sets\n",
    "X_train, X_test, y_train, y_test = train_test_split(X, y, test_size=0.2, random_state=42)\n",
    "\n",
    "# Create a linear regression model\n",
    "model = LinearRegression()\n",
    "\n",
    "# Fit the model on the training data\n",
    "model.fit(X_train, y_train)\n",
    "\n",
    "# Make predictions on the test set\n",
    "predictions = model.predict(X_test)\n",
    "\n",
    "# Evaluate the model performance\n",
    "mse = mean_squared_error(y_test, predictions)\n",
    "print(f'Mean Squared Error: {mse}')\n",
    "\n",
    "# Plot actual vs predicted values\n",
    "plt.figure(figsize=(10, 6))\n",
    "plt.plot(y_test.index, y_test, label='Actual', marker='o')\n",
    "plt.plot(y_test.index, predictions, label='Predicted', marker='o')\n",
    "plt.title('Actual vs Predicted Demanda_uni_equil')\n",
    "plt.xlabel('Semana')\n",
    "plt.ylabel('Demanda_uni_equil')\n",
    "plt.legend()\n",
    "plt.show()\n",
    "\n"
   ]
  },
  {
   "cell_type": "code",
   "execution_count": null,
   "metadata": {},
   "outputs": [],
   "source": []
  }
 ],
 "metadata": {
  "kernelspec": {
   "display_name": "Python 3",
   "language": "python",
   "name": "python3"
  },
  "language_info": {
   "codemirror_mode": {
    "name": "ipython",
    "version": 3
   },
   "file_extension": ".py",
   "mimetype": "text/x-python",
   "name": "python",
   "nbconvert_exporter": "python",
   "pygments_lexer": "ipython3",
   "version": "3.10.11"
  }
 },
 "nbformat": 4,
 "nbformat_minor": 2
}
